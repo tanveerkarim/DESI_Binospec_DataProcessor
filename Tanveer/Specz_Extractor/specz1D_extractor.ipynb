{
 "cells": [
  {
   "cell_type": "code",
   "execution_count": 1,
   "metadata": {},
   "outputs": [],
   "source": [
    "%matplotlib inline\n",
    "\n",
    "import numpy as np\n",
    "import matplotlib.pyplot as plt"
   ]
  },
  {
   "cell_type": "code",
   "execution_count": 2,
   "metadata": {},
   "outputs": [],
   "source": [
    "data_dir = \"../../../DATA_MAY18/spec1d/\"\n",
    "fname = '2-8h30m-270-spec1d.npz'"
   ]
  },
  {
   "cell_type": "code",
   "execution_count": 3,
   "metadata": {},
   "outputs": [
    {
     "data": {
      "text/plain": [
       "numpy.lib.npyio.NpzFile"
      ]
     },
     "execution_count": 3,
     "metadata": {},
     "output_type": "execute_result"
    }
   ],
   "source": [
    "data = np.load(data_dir + fname) #object, flag (0, 1), wavelength. flags: 0 -> iamge, 1 -> ivar\n",
    "type(data)"
   ]
  },
  {
   "cell_type": "code",
   "execution_count": null,
   "metadata": {},
   "outputs": [],
   "source": [
    "data['data_ivar'].shape"
   ]
  },
  {
   "cell_type": "code",
   "execution_count": null,
   "metadata": {},
   "outputs": [],
   "source": [
    "print(data['data_ivar'][0].shape)\n",
    "print(data['data_ivar'][0][0].shape)\n",
    "print(len(data['data_ivar']))"
   ]
  },
  {
   "cell_type": "code",
   "execution_count": null,
   "metadata": {},
   "outputs": [],
   "source": [
    "collapsedSpectrum = data['data_ivar'][:, 0, :]\n",
    "ivar = data['data_ivar'][:, 1, :]"
   ]
  },
  {
   "cell_type": "code",
   "execution_count": null,
   "metadata": {},
   "outputs": [],
   "source": [
    "ivar.shape"
   ]
  },
  {
   "cell_type": "code",
   "execution_count": 4,
   "metadata": {},
   "outputs": [],
   "source": [
    "def ModelO2(wavelength_array, width, Amp = 1):\n",
    "\t\"\"\"Returns the [OII] doublet model\n",
    "\tParameters: wavelength_array: Full wavelength array of MMT BinoSpec. This is constant.\n",
    "\t\t\t\twidth: width of the Gaussian doublets. This varies.\n",
    "\t\t\t\tAmp: Amplitude of the Gaussian doublets\n",
    "\t\t\t\t\"\"\"\n",
    "\n",
    "\tGaussian = lambda x, mean, std: np.exp(-((x - mean)/std)**2)\n",
    "\n",
    "\t#Values from http://classic.sdss.org/dr6/algorithms/linestable.html\n",
    "\tseparation = (3729.875-3727.092)/2 #separation between lambda0 and the emission lines\n",
    "\tlambda0 = wavelength_array[(len(wavelength_array)-1)//2] #Take the midpoint of the wavelength_array as the centre\n",
    "                                                             #of the Gaussian doublet\n",
    "\treturn Amp*(Gaussian(wavelength_array, lambda0-separation, width) + Gaussian(wavelength_array, lambda0+separation, width))"
   ]
  },
  {
   "cell_type": "code",
   "execution_count": 102,
   "metadata": {},
   "outputs": [],
   "source": [
    "def Window(wavelength_array, ngal, pixel_size, window_size_multiplier):\n",
    "        \"\"\"Returns windows to run the Model function over to speed up calculation\n",
    "        Parameters: wavelength_array: Full wavelength array of MMT BinoSpec. This is constant\n",
    "                    ngal: number of galaxies in a given data file\n",
    "                    pixel_size: width of pixels in wavelength_array\n",
    "                    window_size_multiplier: Multiple this with pixel size to get width of window in wavelength_array space\n",
    "        Returns: nwindow_ndarray: l x m x n ndarray where l = ngal, m = number of windows and \n",
    "                                n = pixels per windowsize\n",
    "        \"\"\"\n",
    "\n",
    "        nwindow = (wavelength_array[-1] - wavelength_array[0])//pixel_size #number of windows per galaxy. \n",
    "                                                        #It is of this form b/c beyond this window exceeds the wavelength_array\n",
    "        nwindow_array = []\n",
    "\n",
    "        #Generate nwindow windows\n",
    "        for i in range(nwindow):\n",
    "            tmp = np.arange(wavelength_array[i], wavelength_array[i] + pixel_size*(window_size_multiplier), \\\n",
    "                                         pixel_size)\n",
    "            if(tmp[-1] > wavelength_array[-1]):\n",
    "                break\n",
    "            else:\n",
    "                nwindow_array.append(tmp)\n",
    "\n",
    "        nwindow_array = np.asarray(nwindow_array)\n",
    "        \n",
    "        #Repeat nwindow_arary ngal times \n",
    "        #https://stackoverflow.com/questions/32171917/copy-2d-array-into-3rd-dimension-n-times-python\n",
    "        nwindow_ndarray = np.repeat(nwindow_array[np.newaxis, :, :], ngal, axis=0)\n",
    "\n",
    "        return nwindow_ndarray"
   ]
  },
  {
   "cell_type": "code",
   "execution_count": 105,
   "metadata": {},
   "outputs": [
    {
     "name": "stdout",
     "output_type": "stream",
     "text": [
      "24\n"
     ]
    },
    {
     "data": {
      "text/plain": [
       "24"
      ]
     },
     "execution_count": 105,
     "metadata": {},
     "output_type": "execute_result"
    }
   ],
   "source": [
    "pixel_size = 3; multiplier = 5; first_element = 4500; last_element = 4570;\n",
    "wave_grid = np.arange(first_element, last_element, pixel_size)\n",
    "\n",
    "tmp = []\n",
    "for i in range(len(wave_grid)):\n",
    "    tmp.append(np.arange(wave_grid[i], wave_grid[i] + pixel_size*(1 + multiplier), pixel_size))\n",
    "\n",
    "nwindow = (last_element - first_element)//pixel_size + 1\n",
    "print(nwindow)\n",
    "len(tmp)"
   ]
  },
  {
   "cell_type": "code",
   "execution_count": 110,
   "metadata": {},
   "outputs": [
    {
     "name": "stdout",
     "output_type": "stream",
     "text": [
      "5\n",
      "[4500 4504 4508 4512 4516]\n"
     ]
    },
    {
     "data": {
      "text/plain": [
       "array([[4500, 4504, 4508],\n",
       "       [4504, 4508, 4512],\n",
       "       [4508, 4512, 4516]])"
      ]
     },
     "execution_count": 110,
     "metadata": {},
     "output_type": "execute_result"
    }
   ],
   "source": [
    "pixel_size = 4\n",
    "wave_grid = np.arange(4500, 4518, pixel_size);\n",
    "print(len(wave_grid))\n",
    "print(wave_grid)\n",
    "tmpwindow = Window(wave_grid, ngal = 1, pixel_size = pixel_size, window_size_multiplier=3)\n",
    "tmpwindow[0]"
   ]
  },
  {
   "cell_type": "markdown",
   "metadata": {},
   "source": [
    "## Synthetic data"
   ]
  },
  {
   "cell_type": "code",
   "execution_count": null,
   "metadata": {},
   "outputs": [],
   "source": [
    "def Model(params, Amp = 1, std = 0.75): #Default, A = 1, std = 0.75\n",
    "    \"\"\"Returns the [OII] doublet model\n",
    "    Parameters: Amp Amplitude\n",
    "                params: tuple of spectra and lambda0 (centre point of the Model)\n",
    "    \"\"\"\n",
    "    \n",
    "    spectra, lambda0 = params\n",
    "    Gaussian = lambda x, mean, std: np.exp(-((x - mean)/std)**2)\n",
    "    \n",
    "    #Values from http://classic.sdss.org/dr6/algorithms/linestable.html\n",
    "    separation = (3729.875-3727.092)/2 #separation between lambda0 and the emission lines\n",
    "    \n",
    "    return Amp*(Gaussian(spectra, lambda0-separation, std) + Gaussian(spectra, lambda0+separation, std))"
   ]
  },
  {
   "cell_type": "code",
   "execution_count": null,
   "metadata": {},
   "outputs": [],
   "source": [
    "wavelength_grid = np.arange(4500, 4550, .5) \n",
    "ngal = 64 #Number of galaxy in one data file"
   ]
  },
  {
   "cell_type": "code",
   "execution_count": null,
   "metadata": {},
   "outputs": [],
   "source": [
    "synthSpectra = np.arange(4500, 5000, .5) #Note that spacing must be geq the minimum linewidth, i.e. 0.1\n",
    "pureData = Model((synthSpectra, 4730), 1, .1)\n",
    "errstd = 0.05\n",
    "errData = np.random.normal(0, errstd, synthSpectra.shape)\n",
    "synthData = pureData + errData\n",
    "\n",
    "plt.subplot(2,1,1)\n",
    "plt.plot(synthSpectra, synthData)\n",
    "plt.plot(synthSpectra, pureData)\n",
    "plt.xlabel(\"Wavelength\", fontname = 'serif', fontsize = 15)\n",
    "plt.ylabel(\"Flux\", fontname = 'serif', fontsize = 15)\n",
    "\n",
    "plt.subplot(2,1,2)\n",
    "plt.plot(errData)\n",
    "plt.xlabel(\"Wavelength\", fontname = 'serif', fontsize = 15)\n",
    "plt.ylabel(\"Flux Error\", fontname = 'serif', fontsize = 15)"
   ]
  },
  {
   "cell_type": "code",
   "execution_count": null,
   "metadata": {},
   "outputs": [],
   "source": [
    "def SNR_Calculatorv1(wavelength, flux, err):\n",
    "    \"\"\"Returns the SNR and lambda0 such that SNR is a function of lambda0\n",
    "    Parameters: wavelength: array of wavelength range over which to test the filter\n",
    "                flux: array of flux corresponding to the wavelength range\n",
    "                err: array of flux error\n",
    "                \n",
    "    Returns: SNR: Signal-to-noise ratios of Amplitude\n",
    "             lambda0: Different central values of the filter\n",
    "    \"\"\"\n",
    "    \n",
    "    lambda0_emitted = 3727.092 + (3729.875-3727.092)/2 #Midpoint of OII doublet\n",
    "        \n",
    "    #Initialise numpy arrays\n",
    "    width = np.arange(0.1, 2.1, .1) #To calculate SNR at different linewidth\n",
    "    z = np.zeros(len(wavelength))\n",
    "    SNR = np.zeros((len(width), len(wavelength))) #width vs z grid\n",
    "    dataPrime = flux/err #signal of data\n",
    "    \n",
    "    #Calculate SNR at different lambda0 and w\n",
    "    for i in range(len(wavelength)):\n",
    "        for j in range(len(width)):\n",
    "            lambda0 = wavelength[i]\n",
    "            modelFlux = Model((wavelength, lambda0), 1, width[j])\n",
    "            modelPrime = modelFlux/err\n",
    "            \n",
    "            \"\"\"A = (fluxPrime (dot) modelPrime)/(modelPrime (dot) modelPrime)\n",
    "            sigmaA = 1/sqrt(modelPrime (dot) modelPrime)\n",
    "            SNR = A/sigmaA\"\"\"\n",
    "            sigmaA = 1./np.sqrt(np.dot(modelPrime, modelPrime))\n",
    "            A = np.dot(dataPrime, modelPrime)/(sigmaA**(-2))\n",
    "            SNR[j][i] = A/sigmaA\n",
    "            \n",
    "        #Convert lambda0 to z\n",
    "        z[i] = lambda0/lambda0_emitted - 1\n",
    "    \n",
    "    return SNR, z, width"
   ]
  },
  {
   "cell_type": "code",
   "execution_count": null,
   "metadata": {},
   "outputs": [],
   "source": [
    "import time"
   ]
  },
  {
   "cell_type": "code",
   "execution_count": null,
   "metadata": {},
   "outputs": [],
   "source": [
    "t0 = time.time()\n",
    "SNRv1, z, w = SNR_Calculatorv1(synthSpectra, synthData, errstd)\n",
    "t1 = time.time()\n",
    "totalv1 = t1-t0"
   ]
  },
  {
   "cell_type": "code",
   "execution_count": null,
   "metadata": {},
   "outputs": [],
   "source": [
    "def SNR_Calculatorv2(wavelength, flux, err):\n",
    "    \"\"\"Returns the SNR and lambda0 such that SNR is a function of lambda0\n",
    "    Parameters: wavelength: array of wavelength range over which to test the filter\n",
    "                flux: array of flux corresponding to the wavelength range\n",
    "                err: array of flux error\n",
    "                \n",
    "    Returns: SNR: Signal-to-noise ratios of Amplitude\n",
    "             lambda0: Different central values of the filter\n",
    "    \"\"\"\n",
    "    \n",
    "    lambda0_emitted = 3727.092 + (3729.875-3727.092)/2 #Midpoint of OII doublet\n",
    "        \n",
    "    #Initialise numpy arrays\n",
    "    width = np.arange(0.1, 2.1, .1) #To calculate SNR at different linewidth\n",
    "    z = np.zeros(len(wavelength))\n",
    "    SNR = np.zeros((len(width), len(wavelength))) #width vs z grid\n",
    "    dataPrime = flux/err #signal of data\n",
    "    #Calculate SNR at different lambda0 and w\n",
    "    for i in range(len(wavelength)-50): \n",
    "        #The window is 100 px wide with centre at the 50th px. Hence we go upto nth-50 such that we do not have index error\n",
    "        for j in range(len(width)):\n",
    "            lambda0 = wavelength[i+50]\n",
    "            modelFlux = Model((wavelength[i:i+100], lambda0), 1, width[j])\n",
    "            modelPrime = modelFlux/err\n",
    "            \n",
    "            \"\"\"A = (fluxPrime (dot) modelPrime)/(modelPrime (dot) modelPrime)\n",
    "            sigmaA = 1/sqrt(modelPrime (dot) modelPrime)\n",
    "            SNR = A/sigmaA\"\"\"\n",
    "            sigmaA = 1./np.sqrt(np.dot(modelPrime, modelPrime))\n",
    "            A = np.dot(dataPrime[i:i+100], modelPrime)/(sigmaA**(-2))\n",
    "            SNR[j][i] = A/sigmaA\n",
    "            \n",
    "        #Convert lambda0 to z\n",
    "        z[i] = lambda0/lambda0_emitted - 1\n",
    "    \n",
    "    return SNR, z, width"
   ]
  },
  {
   "cell_type": "code",
   "execution_count": null,
   "metadata": {},
   "outputs": [],
   "source": [
    "t0 = time.time()\n",
    "SNRv2, z, w = SNR_Calculatorv2(synthSpectra, synthData, errstd)\n",
    "t1 = time.time()\n",
    "totalv2 = t1-t0"
   ]
  },
  {
   "cell_type": "code",
   "execution_count": null,
   "metadata": {},
   "outputs": [],
   "source": [
    "print(totalv1)\n",
    "print(totalv2)"
   ]
  },
  {
   "cell_type": "code",
   "execution_count": null,
   "metadata": {},
   "outputs": [],
   "source": [
    "import seaborn as sns"
   ]
  },
  {
   "cell_type": "code",
   "execution_count": null,
   "metadata": {},
   "outputs": [],
   "source": [
    "plt.imshow(SNRv1, aspect = 'auto')"
   ]
  },
  {
   "cell_type": "code",
   "execution_count": null,
   "metadata": {},
   "outputs": [],
   "source": [
    "np.where(SNRv1 == SNRv1.max())"
   ]
  },
  {
   "cell_type": "code",
   "execution_count": null,
   "metadata": {},
   "outputs": [],
   "source": [
    "plt.imshow(SNRv2, aspect = 'auto')"
   ]
  },
  {
   "cell_type": "code",
   "execution_count": null,
   "metadata": {},
   "outputs": [],
   "source": [
    "np.where(SNRv2 == SNRv2.max())"
   ]
  },
  {
   "cell_type": "code",
   "execution_count": null,
   "metadata": {},
   "outputs": [],
   "source": [
    "SNRv2[0][410]"
   ]
  },
  {
   "cell_type": "code",
   "execution_count": null,
   "metadata": {},
   "outputs": [],
   "source": [
    "SNRv1[0][460]"
   ]
  },
  {
   "cell_type": "code",
   "execution_count": null,
   "metadata": {},
   "outputs": [],
   "source": [
    "plt.plot(ModelO2(np.arange(4500,4560,.5), .5))"
   ]
  }
 ],
 "metadata": {
  "anaconda-cloud": {},
  "kernelspec": {
   "display_name": "Python [default]",
   "language": "python",
   "name": "python3"
  },
  "language_info": {
   "codemirror_mode": {
    "name": "ipython",
    "version": 3
   },
   "file_extension": ".py",
   "mimetype": "text/x-python",
   "name": "python",
   "nbconvert_exporter": "python",
   "pygments_lexer": "ipython3",
   "version": "3.5.4"
  }
 },
 "nbformat": 4,
 "nbformat_minor": 2
}
