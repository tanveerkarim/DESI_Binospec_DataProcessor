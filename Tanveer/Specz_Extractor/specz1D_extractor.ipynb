{
 "cells": [
  {
   "cell_type": "code",
   "execution_count": 1,
   "metadata": {},
   "outputs": [],
   "source": [
    "%matplotlib inline\n",
    "\n",
    "import numpy as np\n",
    "import matplotlib.pyplot as plt"
   ]
  },
  {
   "cell_type": "markdown",
   "metadata": {},
   "source": [
    "## Import data"
   ]
  },
  {
   "cell_type": "code",
   "execution_count": 2,
   "metadata": {},
   "outputs": [],
   "source": [
    "data_dir = \"../../../DATA_MAY18/spec1d/\"\n",
    "fname = '2-8h30m-270-spec1d.npz'"
   ]
  },
  {
   "cell_type": "code",
   "execution_count": 3,
   "metadata": {},
   "outputs": [],
   "source": [
    "data = np.load(data_dir + fname) #object, flag (0, 1), wavelength. flags: 0 -> iamge, 1 -> ivar"
   ]
  },
  {
   "cell_type": "code",
   "execution_count": 4,
   "metadata": {},
   "outputs": [],
   "source": [
    "def dataPrime(data):\n",
    "    \"\"\"Returns the ratio of data over error\"\"\"\n",
    "    \n",
    "    image = data['data_ivar'][:, 0, :]\n",
    "    ivar = data['data_ivar'][:, 1, :]\n",
    "    \n",
    "    return (image)*np.sqrt(ivar)"
   ]
  },
  {
   "cell_type": "code",
   "execution_count": 5,
   "metadata": {},
   "outputs": [],
   "source": [
    "def Chi2Null(data):\n",
    "    \"\"\"Returns the null chi2 of the 2D spectra by squaring dataPrime and then summing it along column axis\"\"\"\n",
    "    \n",
    "    image = data['data_ivar'][:, 0, :]\n",
    "    ivar = data['data_ivar'][:, 1, :]\n",
    "    \n",
    "    return np.sum((dataPrime(image, ivar))**2, axis = 1)"
   ]
  },
  {
   "cell_type": "code",
   "execution_count": 6,
   "metadata": {},
   "outputs": [],
   "source": [
    "def wave_grid(data):\n",
    "    \"\"\"Returns wavegrid based on header file from data\"\"\"\n",
    "    \n",
    "    crval1 = float(str(data['headers'][1]).split(\"CRVAL1\")[1].split(\"=\")[1].split(\"/\")[0]) #Starting value\n",
    "    cdelt1 = float(str(data['headers'][1]).split(\"CDELT1\")[1].split(\"=\")[1].split(\"/\")[0]) #Pixel size\n",
    "    \n",
    "    collapsedSpectrum = data['data_ivar'][:, 0, :]\n",
    "    \n",
    "    wave_grid = crval1 + cdelt1 * np.arange(collapsedSpectrum[1].shape[0])\n",
    "    wave_grid *= 10 #Convert wave_grid to Angstrom from nm\n",
    "    return wave_grid"
   ]
  },
  {
   "cell_type": "code",
   "execution_count": 7,
   "metadata": {},
   "outputs": [],
   "source": [
    "def lambda_to_z(wavelength):\n",
    "    \"\"\"Converts wavelength grid to redshift grid\"\"\"\n",
    "    \n",
    "    separation = (3729.875-3727.092)/2 #separation between the emission lines\n",
    "    lambda0 = 3727.092 + separation #Midpoint of the gaussian emission lines in restframe\n",
    "    \n",
    "    return (wavelength/lambda0 - 1)"
   ]
  },
  {
   "cell_type": "code",
   "execution_count": 8,
   "metadata": {},
   "outputs": [],
   "source": [
    "def Window(z, wg, z_grid, window_width = 0.005):\n",
    "    \"\"\"Returns a range of pixel in the specified window width\n",
    "    \n",
    "    Parameters\n",
    "    ----------\n",
    "    z: Centre of the window\n",
    "    wg: wave grid that needs to be windowed\n",
    "    z_grid: redshift grid of the wave_grid\n",
    "    window_width: size of the window in redshift space\n",
    "    \n",
    "    Returns\n",
    "    -------\n",
    "    windowed_array: windowed array of the windowing_array    \n",
    "    \"\"\"\n",
    "    windowed_array = wg[(z_grid > (z - window_width)) & (z_grid < (z + window_width))]\n",
    "    \n",
    "    #Find the idx of the edges of the window\n",
    "    #minidx = np.where(windowing_array == np.min(windowed_array)) \n",
    "    #maxidx = np.where(windowing_array == np.max(windowed_array))\n",
    "    \n",
    "    #print(np.min(windowed_array)); print(np.max(windowed_array))\n",
    "    #return minidx, maxidx, windowed_array\n",
    "    return windowed_array"
   ]
  },
  {
   "cell_type": "code",
   "execution_count": 90,
   "metadata": {},
   "outputs": [],
   "source": [
    "def Model(z, wg2, width, Amp = 1):\n",
    "    \"\"\"Returns Gaussian filter model at redshift z\n",
    "    \n",
    "    Parameters\n",
    "    ----------\n",
    "    z: array of redshifts at which the model is being tested\n",
    "    wg2: pixel grid of the Window\n",
    "    width: width array of the Gaussian doublets\n",
    "    Amp: amplitude of the Gaussian doublets\n",
    "    \n",
    "    Returns\n",
    "    --------\n",
    "    model: Gaussian models in the range of [z - window_width, z + window_width]\n",
    "    \"\"\"\n",
    "    \n",
    "    lambda_r27 = 3727.092; lambda_r29 = 3729.875 #rest frame wavelength of the [OII] doublets\n",
    "    separation_r = (lambda_r29 - lambda_r27) #separation between the emission lines in rest frame\n",
    "    lambda0 = lambda_r27 + separation_r/2 #Midpoint of the gaussian emission lines in restframe\n",
    "    lambda_obs = lambda0*(1 + z) #Observed wavelength of of the midpoint\n",
    "    Gaussian = lambda x, mean, std: (1/np.sqrt(2*np.pi*std**2))*np.exp(-((x[:, np.newaxis] - mean)/std)**2)\n",
    "\n",
    "    model = Amp/2*(Gaussian(wg2, lambda_obs - separation_r, width) + Gaussian(wg2, lambda_obs + separation_r, width))\n",
    "        \n",
    "    return model"
   ]
  },
  {
   "cell_type": "code",
   "execution_count": 91,
   "metadata": {},
   "outputs": [],
   "source": [
    "def SNR_calculator(maskname, data):\n",
    "    \"\"\"maskname[-3:] yields the grating number. z_range changes depending\n",
    "    on maskname because of variation in grating. The start and end points\n",
    "    are chosen by inspecting the header file of the data.\"\"\"\n",
    "    \n",
    "    if(maskname[-3:] == '270'):\n",
    "        z_range = np.arange(0.677, 1.5, 0.001)\n",
    "    elif(maskname[-3:] == '600'):\n",
    "        z_range = np.arange(0.7, 1.6, 0.001)\n",
    "    widths = np.arange(.5, 1., .1)\n",
    "    \n",
    "    #Read data\n",
    "    image = data['data_ivar'][:, 0, :]\n",
    "    ivar = data['data_ivar'][:, 1, :]\n",
    "    wg = wave_grid(data)\n",
    "    z_grid = lambda_to_z(wg) #Convert wavelength space to redshift space\n",
    "    \n",
    "    results = np.zeros((z_range.size, image.shape[0], widths.size))\n",
    "    Amps = np.zeros((z_range.size, image.shape[0], widths.size))\n",
    "    \n",
    "    for i, z in enumerate(z_range):\n",
    "        wg2 = Window(z, wg, z_grid)\n",
    "        \n",
    "        model = Model(z, wg2, widths)\n",
    "        \n",
    "        #Find the idx of the edges of the windows and slice the image file to multiply with modelPrime\n",
    "        minidx = np.where(wg == np.min(wg2))[0][0] \n",
    "        maxidx = np.where(wg == np.max(wg2))[0][0]\n",
    "        imageSliced = image[:,minidx:maxidx+1]\n",
    "        imageSliced = imageSliced[:, :, np.newaxis] #Broadcasting\n",
    "        ivarSliced = ivar[:,minidx:maxidx+1]\n",
    "        ivarSliced = ivarSliced[:, :, np.newaxis] #Broadcasting\n",
    "        imagePrimeSliced = imageSliced*np.sqrt(ivarSliced)\n",
    "        \n",
    "        Mprime = np.sqrt(ivarSliced)*model\n",
    "        Denominator = Mprime**2\n",
    "        Denominator = np.sum(Denominator, axis = 1)\n",
    "        Numerator = Mprime*imagePrimeSliced\n",
    "        Numerator = np.sum(Numerator, axis = 1)\n",
    "        \n",
    "        \"\"\"\n",
    "        sigmaA^(-2) = M'.M'\n",
    "        A = (D'.M')/(M'.M') => (D'.M')*(sigmaA^(2))\n",
    "        \"\"\"\n",
    "        \n",
    "        Amp = Numerator/Denominator\n",
    "        sigmaA = np.sqrt(1./Denominator)\n",
    "        SNR = Amp/sigmaA\n",
    "        \n",
    "        results[i] = SNR\n",
    "        Amps[i] = Amp\n",
    "\n",
    "    results = results.transpose([1, 2, 0]) #This maintains the indices\n",
    "    Amps = Amps.transpose([1, 2, 0])\n",
    "    \n",
    "    return z_range, widths, results, Amps"
   ]
  },
  {
   "cell_type": "code",
   "execution_count": 92,
   "metadata": {
    "scrolled": false
   },
   "outputs": [
    {
     "name": "stderr",
     "output_type": "stream",
     "text": [
      "C:\\Users\\tanve\\Anaconda3\\lib\\site-packages\\ipykernel_launcher.py:46: RuntimeWarning: invalid value encountered in true_divide\n",
      "C:\\Users\\tanve\\Anaconda3\\lib\\site-packages\\ipykernel_launcher.py:47: RuntimeWarning: divide by zero encountered in true_divide\n"
     ]
    },
    {
     "name": "stdout",
     "output_type": "stream",
     "text": [
      "0.6797220706939697\n"
     ]
    }
   ],
   "source": [
    "from time import time\n",
    "\n",
    "start = time()\n",
    "z, widths, SNR_tmp, Amps_tmp = SNR_calculator('2-8h30m-270', data)\n",
    "end = time()\n",
    "\n",
    "tot_time = end - start\n",
    "print(str(tot_time))"
   ]
  },
  {
   "cell_type": "markdown",
   "metadata": {},
   "source": [
    "### 45000 models over 143 galaxies ~ 8.10 seconds"
   ]
  },
  {
   "cell_type": "markdown",
   "metadata": {},
   "source": [
    "### -------"
   ]
  },
  {
   "cell_type": "markdown",
   "metadata": {},
   "source": [
    "## Find the highest SNR models"
   ]
  },
  {
   "cell_type": "markdown",
   "metadata": {},
   "source": [
    "In this section, we write a function that extracts the highest SNR models that crosses the threshold of SNR = 7 for a given galaxy and generates PDFs for us to visually inspect. We heuristically pick the number 10 to test this."
   ]
  },
  {
   "cell_type": "code",
   "execution_count": 93,
   "metadata": {},
   "outputs": [
    {
     "name": "stdout",
     "output_type": "stream",
     "text": [
      "(143, 5, 823)\n",
      "(143, 5, 823)\n"
     ]
    }
   ],
   "source": [
    "print(SNR_tmp.shape)\n",
    "print(Amps_tmp.shape)"
   ]
  },
  {
   "cell_type": "markdown",
   "metadata": {},
   "source": [
    "### 1D spectra and image"
   ]
  },
  {
   "cell_type": "code",
   "execution_count": 94,
   "metadata": {},
   "outputs": [],
   "source": [
    "#Delete the spec1d.npz substring\n",
    "string2 = '-spec1d.npz'\n",
    "maskname = fname[:len(string2)]"
   ]
  },
  {
   "cell_type": "code",
   "execution_count": 95,
   "metadata": {
    "scrolled": false
   },
   "outputs": [
    {
     "data": {
      "text/plain": [
       "Text(0.5,1,'1D inverse variance')"
      ]
     },
     "execution_count": 95,
     "metadata": {},
     "output_type": "execute_result"
    },
    {
     "data": {
      "image/png": "[encoded data removed]",
      "text/plain": [
       "<Figure size 432x288 with 2 Axes>"
      ]
     },
     "metadata": {},
     "output_type": "display_data"
    }
   ],
   "source": [
    "idx = 20\n",
    "\n",
    "image = data['data_ivar'][:, 0, :]\n",
    "ivar = data['data_ivar'][:, 1, :]\n",
    "\n",
    "imagetmp = image[idx, :]\n",
    "ivartmp = ivar[idx, :]\n",
    "\n",
    "f, axarr = plt.subplots(2, sharex=True)\n",
    "axarr[0].plot(wave_grid(data), imagetmp)\n",
    "axarr[0].set_title('Mask: ' + maskname + ', ' + 'Slit ' + str(idx) + \"\\n\" + \"1D spectra\" \\\n",
    "                   ,  fontsize = 15, fontname = 'serif')\n",
    "axarr[1].plot(wave_grid(data), ivartmp)\n",
    "axarr[1].set_title('1D inverse variance', fontsize = 15, fontname = 'serif')\n",
    "#plt.savefig('results/spectra1d/' + maskname + '-' + str(idx) + '-spectra1d.pdf', dpi = 600, bbox_inches = None)"
   ]
  },
  {
   "cell_type": "code",
   "execution_count": 15,
   "metadata": {},
   "outputs": [
    {
     "name": "stdout",
     "output_type": "stream",
     "text": [
      "(5, 823)\n"
     ]
    },
    {
     "data": {
      "text/plain": [
       "Text(0.5,1,'Mask: 2-8h30m-270, Slit 20')"
      ]
     },
     "execution_count": 15,
     "metadata": {},
     "output_type": "execute_result"
    },
    {
     "data": {
      "image/png": "[encoded data removed]",
      "text/plain": [
       "<Figure size 432x288 with 2 Axes>"
      ]
     },
     "metadata": {},
     "output_type": "display_data"
    }
   ],
   "source": [
    "print(SNR_tmp[idx].shape)\n",
    "plt.imshow(SNR_tmp[idx], aspect='auto', interpolation='None', \\\n",
    "           extent=[np.min(z), np.max(z), np.min(widths), np.max(widths)], vmin=0, vmax=7)\n",
    "plt.colorbar()\n",
    "plt.ylabel('width', fontsize = 15, fontname = 'serif')\n",
    "plt.xlabel('redshift', fontsize = 15, fontname = 'serif')\n",
    "plt.title('Mask: ' + maskname + ', ' + 'Slit ' + str(idx),  fontsize = 15, fontname = 'serif')\n",
    "#plt.savefig(\"results/SNR2D/\" + maskname + '-' + str(idx) + \"-SNR2d.pdf\", dpi = 600, bbox_inches = None)"
   ]
  },
  {
   "cell_type": "code",
   "execution_count": 16,
   "metadata": {},
   "outputs": [
    {
     "name": "stdout",
     "output_type": "stream",
     "text": [
      "Max SNR for slit 20 is 16.547344492503402\n",
      "Maximum SNR has -- width: 0.8999999999999999 and redshift: 1.2550000000000006\n",
      "Wavelength corresponds to: 8407.730292500004\n",
      "3728.4835000000003\n"
     ]
    }
   ],
   "source": [
    "print(\"Max SNR for slit \" + str(idx) + \" is \" + str(np.nanmax(SNR_tmp[idx])))\n",
    "\n",
    "\"\"\"nanargmax flattens SNR_tmp[idx] and finds the index number of the max value while ignorning NaNs.\n",
    "Then passing that index to unravel_index helps find the coordinate location of the max in the original\n",
    "matrix shape. The second argument is the shape of the matrix. Thus for a given index and a given matrix\n",
    "shape, unravel_index can unflatten the 1D data and reshape it to the desired matrix shape and then \n",
    "find out the coordinate of the desired value.\"\"\"\n",
    "\n",
    "w, redshift = np.unravel_index(np.nanargmax(SNR_tmp[idx]), np.array(SNR_tmp[idx]).shape)\n",
    "print(\"Maximum SNR has -- width: \" + str(widths[w]) + ' and redshift: ' + str(z[redshift]))\n",
    "\n",
    "\n",
    "#Corresponding wavelength\n",
    "lambda_r27 = 3727.092; lambda_r29 = 3729.875 #rest frame wavelength of the [OII] doublets\n",
    "separation_r = (lambda_r29 - lambda_r27) #separation between the emission lines in rest frame\n",
    "lambda0 = lambda_r27 + separation_r/2 #Midpoint of the gaussian emission lines in restframe\n",
    "print(\"Wavelength corresponds to: \" + str(lambda0*(1+z[redshift])))\n",
    "print(lambda0)"
   ]
  },
  {
   "cell_type": "code",
   "execution_count": 17,
   "metadata": {
    "scrolled": false
   },
   "outputs": [
    {
     "data": {
      "text/plain": [
       "Text(0.5,1,'Mask: 2-8h30m-270, Slit 20\\nz = 1.255, w = 0.9')"
      ]
     },
     "execution_count": 17,
     "metadata": {},
     "output_type": "execute_result"
    },
    {
     "data": {
      "image/png": "[encoded data removed]",
      "text/plain": [
       "<Figure size 432x288 with 1 Axes>"
      ]
     },
     "metadata": {},
     "output_type": "display_data"
    }
   ],
   "source": [
    "plt.plot(z, SNR_tmp[idx, w])\n",
    "plt.axhline(7, c = 'red')\n",
    "plt.ylabel('SNR', fontsize = 15, fontname = 'serif')\n",
    "plt.xlabel('redshift', fontsize = 15, fontname = 'serif')\n",
    "plt.title('Mask: ' + maskname + ', ' + 'Slit ' + str(idx) +\"\\n\" +\\\n",
    "          \"z = \" + str(np.round(z[redshift], 3)) + ', w = ' + str(np.round(widths[w],2)) \\\n",
    "          , fontsize = 15, fontname = 'serif')\n",
    "#plt.xlim([z[redshift] - .1, z[redshift] + .1])\n",
    "#plt.savefig(\"results/SNRvsRedshift/\" + maskname + '-' + str(idx) + \"-SNR_vs_z.pdf\", dpi = 600, bbox_inches = None)"
   ]
  },
  {
   "cell_type": "markdown",
   "metadata": {},
   "source": [
    "### Zooming into 1D spectra around wavelength range with the peak"
   ]
  },
  {
   "cell_type": "code",
   "execution_count": 18,
   "metadata": {},
   "outputs": [
    {
     "data": {
      "text/plain": [
       "8407.630292500004"
      ]
     },
     "execution_count": 18,
     "metadata": {},
     "output_type": "execute_result"
    }
   ],
   "source": [
    "lambda0*(1+z[redshift])-.1"
   ]
  },
  {
   "cell_type": "code",
   "execution_count": 73,
   "metadata": {},
   "outputs": [
    {
     "data": {
      "text/plain": [
       "1.2550000000000006"
      ]
     },
     "execution_count": 73,
     "metadata": {},
     "output_type": "execute_result"
    }
   ],
   "source": [
    "z[redshift]"
   ]
  },
  {
   "cell_type": "code",
   "execution_count": 97,
   "metadata": {},
   "outputs": [
    {
     "data": {
      "text/plain": [
       "52.956458679072476"
      ]
     },
     "execution_count": 97,
     "metadata": {},
     "output_type": "execute_result"
    }
   ],
   "source": [
    "Amps_tmp[idx, w, redshift]"
   ]
  },
  {
   "cell_type": "code",
   "execution_count": 98,
   "metadata": {},
   "outputs": [
    {
     "data": {
      "text/plain": [
       "[<matplotlib.lines.Line2D at 0x2b3ee547518>]"
      ]
     },
     "execution_count": 98,
     "metadata": {},
     "output_type": "execute_result"
    },
    {
     "data": {
      "image/png": "[encoded data removed]",
      "text/plain": [
       "<Figure size 432x288 with 2 Axes>"
      ]
     },
     "metadata": {},
     "output_type": "display_data"
    }
   ],
   "source": [
    "ranges = 20\n",
    "\n",
    "f, axarr = plt.subplots(2, sharex=True)\n",
    "axarr[0].plot(wave_grid(data), imagetmp)\n",
    "axarr[0].set_title('Mask: ' + maskname + ', ' + 'Slit ' + str(idx) + \"\\n\" + \"1D spectra\" \\\n",
    "                   ,  fontsize = 15, fontname = 'serif')\n",
    "axarr[1].plot(wave_grid(data), ivartmp)\n",
    "axarr[1].set_title('1D inverse variance', fontsize = 15, fontname = 'serif')\n",
    "axarr[0].set_xlim([lambda0*(1+z[redshift])-ranges, lambda0*(1+z[redshift])+ranges])\n",
    "axarr[1].set_xlim([lambda0*(1+z[redshift])-ranges, lambda0*(1+z[redshift])+ranges])\n",
    "\n",
    "axarr[0].plot(wg3, Model(z[redshift], wg3, widths[w], Amp=Amps_tmp[idx, w, redshift]), c = 'red')\n",
    "\n",
    "#plt.savefig(\"results/PeakZoom/\" + maskname + '-' + str(idx) + \"-zoom1d.pdf\", dpi = 600, bbox_inches = None)"
   ]
  },
  {
   "cell_type": "code",
   "execution_count": 85,
   "metadata": {},
   "outputs": [],
   "source": [
    "wg1 = wave_grid(data)\n",
    "z_grid = lambda_to_z(wg1)\n",
    "wg3 = wg1[(wg1 > (1+z[redshift])*(3728.4835-20.)) & (wg1 < (1+z[redshift])*(3728.4835+20.))]"
   ]
  },
  {
   "cell_type": "code",
   "execution_count": 86,
   "metadata": {},
   "outputs": [
    {
     "name": "stdout",
     "output_type": "stream",
     "text": [
      "3728.4835000000003\n"
     ]
    },
    {
     "data": {
      "text/plain": [
       "[<matplotlib.lines.Line2D at 0x2b3ea64dc50>]"
      ]
     },
     "execution_count": 86,
     "metadata": {},
     "output_type": "execute_result"
    },
    {
     "data": {
      "image/png": "[encoded data removed]",
      "text/plain": [
       "<Figure size 432x288 with 1 Axes>"
      ]
     },
     "metadata": {},
     "output_type": "display_data"
    }
   ],
   "source": [
    "#wg2 = wave_grid(data)[(wave_grid(data) > (3727.092 - 20.)) & (wave_grid(data) < (3727.092 + 20.))]\n",
    "plt.plot(wg3, Model(z[redshift], wg3, widths[w]))"
   ]
  },
  {
   "cell_type": "code",
   "execution_count": 81,
   "metadata": {},
   "outputs": [
    {
     "name": "stdout",
     "output_type": "stream",
     "text": [
      "3728.4835000000003\n"
     ]
    },
    {
     "data": {
      "text/plain": [
       "[<matplotlib.lines.Line2D at 0x2b3e910e0b8>]"
      ]
     },
     "execution_count": 81,
     "metadata": {},
     "output_type": "execute_result"
    },
    {
     "data": {
      "image/png": "[encoded data removed]",
      "text/plain": [
       "<Figure size 432x288 with 1 Axes>"
      ]
     },
     "metadata": {},
     "output_type": "display_data"
    }
   ],
   "source": [
    "plt.plot(wg1, Model(z[redshift], wg1, widths[w]))\n",
    "#plt.xlim([8300, 9600])"
   ]
  },
  {
   "cell_type": "code",
   "execution_count": 77,
   "metadata": {
    "scrolled": true
   },
   "outputs": [
    {
     "name": "stdout",
     "output_type": "stream",
     "text": [
      "3728.4835000000003\n"
     ]
    },
    {
     "data": {
      "text/plain": [
       "[<matplotlib.lines.Line2D at 0x2b3e7deebe0>]"
      ]
     },
     "execution_count": 77,
     "metadata": {},
     "output_type": "execute_result"
    },
    {
     "data": {
      "image/png": "[encoded data removed]",
      "text/plain": [
       "<Figure size 432x288 with 1 Axes>"
      ]
     },
     "metadata": {},
     "output_type": "display_data"
    }
   ],
   "source": [
    "dummy = np.arange(8350, 8450, .1)\n",
    "dummym = Model(z[redshift], dummy, 1.)\n",
    "plt.plot(dummy, dummym)"
   ]
  },
  {
   "cell_type": "code",
   "execution_count": 75,
   "metadata": {},
   "outputs": [
    {
     "data": {
      "text/plain": [
       "array([8430.72981928, 8432.01981925, 8433.30981921, 8434.59981917,\n",
       "       8435.88981913, 8437.17981909, 8438.46981905, 8439.75981902,\n",
       "       8441.04981898, 8442.33981894, 8443.6298189 , 8444.91981886,\n",
       "       8446.20981883, 8447.49981879, 8448.78981875, 8450.07981871,\n",
       "       8451.36981867, 8452.65981863, 8453.9498186 , 8455.23981856,\n",
       "       8456.52981852, 8457.81981848, 8459.10981844, 8460.39981841,\n",
       "       8461.68981837, 8462.97981833, 8464.26981829, 8465.55981825,\n",
       "       8466.84981822, 8468.13981818, 8469.42981814, 8470.7198181 ,\n",
       "       8472.00981806, 8473.29981802, 8474.58981799, 8475.87981795,\n",
       "       8477.16981791, 8478.45981787, 8479.74981783, 8481.0398178 ,\n",
       "       8482.32981776, 8483.61981772, 8484.90981768, 8486.19981764,\n",
       "       8487.4898176 , 8488.77981757, 8490.06981753, 8491.35981749,\n",
       "       8492.64981745, 8493.93981741, 8495.22981738, 8496.51981734,\n",
       "       8497.8098173 , 8499.09981726, 8500.38981722, 8501.67981719,\n",
       "       8502.96981715, 8504.25981711, 8505.54981707, 8506.83981703,\n",
       "       8508.12981699, 8509.41981696, 8510.70981692, 8511.99981688,\n",
       "       8513.28981684, 8514.5798168 , 8515.86981677, 8517.15981673,\n",
       "       8518.44981669, 8519.73981665, 8521.02981661, 8522.31981657,\n",
       "       8523.60981654, 8524.8998165 , 8526.18981646, 8527.47981642,\n",
       "       8528.76981638, 8530.05981635, 8531.34981631, 8532.63981627,\n",
       "       8533.92981623, 8535.21981619, 8536.50981616, 8537.79981612,\n",
       "       8539.08981608, 8540.37981604, 8541.669816  , 8542.95981596,\n",
       "       8544.24981593, 8545.53981589, 8546.82981585, 8548.11981581,\n",
       "       8549.40981577, 8550.69981574, 8551.9898157 , 8553.27981566,\n",
       "       8554.56981562, 8555.85981558, 8557.14981554, 8558.43981551,\n",
       "       8559.72981547, 8561.01981543, 8562.30981539, 8563.59981535,\n",
       "       8564.88981532, 8566.17981528, 8567.46981524, 8568.7598152 ,\n",
       "       8570.04981516, 8571.33981513, 8572.62981509, 8573.91981505,\n",
       "       8575.20981501, 8576.49981497, 8577.78981493, 8579.0798149 ,\n",
       "       8580.36981486, 8581.65981482, 8582.94981478, 8584.23981474,\n",
       "       8585.52981471, 8586.81981467, 8588.10981463, 8589.39981459,\n",
       "       8590.68981455, 8591.97981451, 8593.26981448, 8594.55981444,\n",
       "       8595.8498144 , 8597.13981436, 8598.42981432, 8599.71981429,\n",
       "       8601.00981425, 8602.29981421, 8603.58981417, 8604.87981413,\n",
       "       8606.1698141 , 8607.45981406, 8608.74981402, 8610.03981398,\n",
       "       8611.32981394, 8612.6198139 , 8613.90981387, 8615.19981383,\n",
       "       8616.48981379, 8617.77981375, 8619.06981371, 8620.35981368,\n",
       "       8621.64981364, 8622.9398136 , 8624.22981356, 8625.51981352,\n",
       "       8626.80981348, 8628.09981345, 8629.38981341, 8630.67981337,\n",
       "       8631.96981333, 8633.25981329, 8634.54981326, 8635.83981322,\n",
       "       8637.12981318, 8638.41981314, 8639.7098131 , 8640.99981307,\n",
       "       8642.28981303, 8643.57981299, 8644.86981295, 8646.15981291,\n",
       "       8647.44981287, 8648.73981284, 8650.0298128 , 8651.31981276,\n",
       "       8652.60981272, 8653.89981268, 8655.18981265, 8656.47981261,\n",
       "       8657.76981257, 8659.05981253, 8660.34981249, 8661.63981245,\n",
       "       8662.92981242, 8664.21981238, 8665.50981234, 8666.7998123 ,\n",
       "       8668.08981226, 8669.37981223, 8670.66981219, 8671.95981215,\n",
       "       8673.24981211, 8674.53981207, 8675.82981203, 8677.119812  ,\n",
       "       8678.40981196, 8679.69981192, 8680.98981188, 8682.27981184,\n",
       "       8683.56981181, 8684.85981177, 8686.14981173, 8687.43981169,\n",
       "       8688.72981165, 8690.01981162, 8691.30981158, 8692.59981154,\n",
       "       8693.8898115 , 8695.17981146, 8696.46981142, 8697.75981139,\n",
       "       8699.04981135, 8700.33981131, 8701.62981127, 8702.91981123,\n",
       "       8704.2098112 , 8705.49981116, 8706.78981112, 8708.07981108,\n",
       "       8709.36981104, 8710.659811  , 8711.94981097, 8713.23981093,\n",
       "       8714.52981089, 8715.81981085, 8717.10981081, 8718.39981078,\n",
       "       8719.68981074, 8720.9798107 , 8722.26981066, 8723.55981062,\n",
       "       8724.84981059, 8726.13981055, 8727.42981051, 8728.71981047,\n",
       "       8730.00981043, 8731.29981039, 8732.58981036, 8733.87981032,\n",
       "       8735.16981028, 8736.45981024, 8737.7498102 , 8739.03981017,\n",
       "       8740.32981013, 8741.61981009, 8742.90981005, 8744.19981001,\n",
       "       8745.48980997, 8746.77980994, 8748.0698099 , 8749.35980986,\n",
       "       8750.64980982, 8751.93980978, 8753.22980975, 8754.51980971,\n",
       "       8755.80980967, 8757.09980963, 8758.38980959, 8759.67980956,\n",
       "       8760.96980952, 8762.25980948, 8763.54980944, 8764.8398094 ,\n",
       "       8766.12980936, 8767.41980933, 8768.70980929, 8769.99980925,\n",
       "       8771.28980921, 8772.57980917, 8773.86980914, 8775.1598091 ,\n",
       "       8776.44980906, 8777.73980902, 8779.02980898, 8780.31980894,\n",
       "       8781.60980891, 8782.89980887, 8784.18980883, 8785.47980879,\n",
       "       8786.76980875, 8788.05980872, 8789.34980868, 8790.63980864,\n",
       "       8791.9298086 , 8793.21980856, 8794.50980853, 8795.79980849,\n",
       "       8797.08980845, 8798.37980841, 8799.66980837, 8800.95980833,\n",
       "       8802.2498083 , 8803.53980826, 8804.82980822, 8806.11980818,\n",
       "       8807.40980814, 8808.69980811, 8809.98980807, 8811.27980803,\n",
       "       8812.56980799, 8813.85980795, 8815.14980791, 8816.43980788,\n",
       "       8817.72980784, 8819.0198078 , 8820.30980776, 8821.59980772,\n",
       "       8822.88980769, 8824.17980765, 8825.46980761, 8826.75980757,\n",
       "       8828.04980753, 8829.3398075 , 8830.62980746, 8831.91980742,\n",
       "       8833.20980738, 8834.49980734, 8835.7898073 , 8837.07980727,\n",
       "       8838.36980723, 8839.65980719, 8840.94980715, 8842.23980711,\n",
       "       8843.52980708, 8844.81980704, 8846.109807  , 8847.39980696,\n",
       "       8848.68980692, 8849.97980688, 8851.26980685, 8852.55980681,\n",
       "       8853.84980677, 8855.13980673, 8856.42980669, 8857.71980666,\n",
       "       8859.00980662, 8860.29980658, 8861.58980654, 8862.8798065 ,\n",
       "       8864.16980647, 8865.45980643, 8866.74980639, 8868.03980635,\n",
       "       8869.32980631, 8870.61980627, 8871.90980624, 8873.1998062 ,\n",
       "       8874.48980616, 8875.77980612, 8877.06980608, 8878.35980605,\n",
       "       8879.64980601, 8880.93980597, 8882.22980593, 8883.51980589,\n",
       "       8884.80980585, 8886.09980582, 8887.38980578, 8888.67980574,\n",
       "       8889.9698057 , 8891.25980566, 8892.54980563, 8893.83980559,\n",
       "       8895.12980555, 8896.41980551, 8897.70980547, 8898.99980543,\n",
       "       8900.2898054 , 8901.57980536, 8902.86980532, 8904.15980528,\n",
       "       8905.44980524, 8906.73980521, 8908.02980517, 8909.31980513,\n",
       "       8910.60980509, 8911.89980505, 8913.18980502, 8914.47980498,\n",
       "       8915.76980494, 8917.0598049 , 8918.34980486, 8919.63980482,\n",
       "       8920.92980479, 8922.21980475, 8923.50980471, 8924.79980467,\n",
       "       8926.08980463, 8927.3798046 , 8928.66980456, 8929.95980452,\n",
       "       8931.24980448, 8932.53980444, 8933.8298044 , 8935.11980437,\n",
       "       8936.40980433, 8937.69980429, 8938.98980425, 8940.27980421,\n",
       "       8941.56980418, 8942.85980414, 8944.1498041 , 8945.43980406,\n",
       "       8946.72980402, 8948.01980399, 8949.30980395, 8950.59980391,\n",
       "       8951.88980387, 8953.17980383, 8954.46980379, 8955.75980376,\n",
       "       8957.04980372, 8958.33980368, 8959.62980364, 8960.9198036 ,\n",
       "       8962.20980357, 8963.49980353, 8964.78980349, 8966.07980345,\n",
       "       8967.36980341, 8968.65980337, 8969.94980334, 8971.2398033 ,\n",
       "       8972.52980326, 8973.81980322, 8975.10980318, 8976.39980315,\n",
       "       8977.68980311, 8978.97980307, 8980.26980303, 8981.55980299,\n",
       "       8982.84980296, 8984.13980292, 8985.42980288, 8986.71980284,\n",
       "       8988.0098028 , 8989.29980276, 8990.58980273, 8991.87980269,\n",
       "       8993.16980265, 8994.45980261, 8995.74980257, 8997.03980254,\n",
       "       8998.3298025 , 8999.61980246, 9000.90980242, 9002.19980238,\n",
       "       9003.48980234, 9004.77980231, 9006.06980227, 9007.35980223,\n",
       "       9008.64980219, 9009.93980215, 9011.22980212, 9012.51980208,\n",
       "       9013.80980204, 9015.099802  , 9016.38980196, 9017.67980193,\n",
       "       9018.96980189, 9020.25980185, 9021.54980181, 9022.83980177,\n",
       "       9024.12980173, 9025.4198017 , 9026.70980166, 9027.99980162,\n",
       "       9029.28980158, 9030.57980154, 9031.86980151, 9033.15980147,\n",
       "       9034.44980143, 9035.73980139, 9037.02980135, 9038.31980131,\n",
       "       9039.60980128, 9040.89980124, 9042.1898012 , 9043.47980116,\n",
       "       9044.76980112, 9046.05980109, 9047.34980105, 9048.63980101,\n",
       "       9049.92980097, 9051.21980093, 9052.5098009 , 9053.79980086,\n",
       "       9055.08980082, 9056.37980078, 9057.66980074, 9058.9598007 ,\n",
       "       9060.24980067, 9061.53980063, 9062.82980059, 9064.11980055,\n",
       "       9065.40980051, 9066.69980048, 9067.98980044, 9069.2798004 ,\n",
       "       9070.56980036, 9071.85980032, 9073.14980028, 9074.43980025,\n",
       "       9075.72980021, 9077.01980017, 9078.30980013, 9079.59980009,\n",
       "       9080.88980006, 9082.17980002, 9083.46979998, 9084.75979994,\n",
       "       9086.0497999 , 9087.33979987, 9088.62979983, 9089.91979979,\n",
       "       9091.20979975, 9092.49979971, 9093.78979967, 9095.07979964,\n",
       "       9096.3697996 , 9097.65979956, 9098.94979952, 9100.23979948,\n",
       "       9101.52979945, 9102.81979941, 9104.10979937, 9105.39979933,\n",
       "       9106.68979929, 9107.97979925, 9109.26979922, 9110.55979918,\n",
       "       9111.84979914, 9113.1397991 , 9114.42979906, 9115.71979903,\n",
       "       9117.00979899, 9118.29979895, 9119.58979891, 9120.87979887,\n",
       "       9122.16979884, 9123.4597988 , 9124.74979876, 9126.03979872,\n",
       "       9127.32979868, 9128.61979864, 9129.90979861, 9131.19979857,\n",
       "       9132.48979853, 9133.77979849, 9135.06979845, 9136.35979842,\n",
       "       9137.64979838, 9138.93979834, 9140.2297983 , 9141.51979826,\n",
       "       9142.80979822, 9144.09979819, 9145.38979815, 9146.67979811,\n",
       "       9147.96979807, 9149.25979803, 9150.549798  , 9151.83979796,\n",
       "       9153.12979792, 9154.41979788, 9155.70979784, 9156.9997978 ,\n",
       "       9158.28979777, 9159.57979773, 9160.86979769, 9162.15979765,\n",
       "       9163.44979761, 9164.73979758, 9166.02979754, 9167.3197975 ,\n",
       "       9168.60979746, 9169.89979742, 9171.18979739, 9172.47979735,\n",
       "       9173.76979731, 9175.05979727, 9176.34979723, 9177.63979719,\n",
       "       9178.92979716, 9180.21979712, 9181.50979708, 9182.79979704,\n",
       "       9184.089797  , 9185.37979697, 9186.66979693, 9187.95979689,\n",
       "       9189.24979685, 9190.53979681, 9191.82979677, 9193.11979674,\n",
       "       9194.4097967 , 9195.69979666, 9196.98979662, 9198.27979658,\n",
       "       9199.56979655, 9200.85979651, 9202.14979647, 9203.43979643,\n",
       "       9204.72979639, 9206.01979636, 9207.30979632, 9208.59979628,\n",
       "       9209.88979624, 9211.1797962 , 9212.46979616, 9213.75979613,\n",
       "       9215.04979609, 9216.33979605, 9217.62979601, 9218.91979597,\n",
       "       9220.20979594, 9221.4997959 , 9222.78979586, 9224.07979582,\n",
       "       9225.36979578, 9226.65979574, 9227.94979571, 9229.23979567,\n",
       "       9230.52979563, 9231.81979559, 9233.10979555, 9234.39979552,\n",
       "       9235.68979548, 9236.97979544, 9238.2697954 , 9239.55979536,\n",
       "       9240.84979533, 9242.13979529, 9243.42979525, 9244.71979521,\n",
       "       9246.00979517, 9247.29979513, 9248.5897951 , 9249.87979506,\n",
       "       9251.16979502, 9252.45979498, 9253.74979494, 9255.03979491,\n",
       "       9256.32979487, 9257.61979483, 9258.90979479, 9260.19979475,\n",
       "       9261.48979471, 9262.77979468, 9264.06979464, 9265.3597946 ,\n",
       "       9266.64979456, 9267.93979452, 9269.22979449, 9270.51979445,\n",
       "       9271.80979441, 9273.09979437, 9274.38979433, 9275.6797943 ,\n",
       "       9276.96979426, 9278.25979422, 9279.54979418, 9280.83979414,\n",
       "       9282.1297941 , 9283.41979407, 9284.70979403, 9285.99979399,\n",
       "       9287.28979395, 9288.57979391, 9289.86979388, 9291.15979384,\n",
       "       9292.4497938 , 9293.73979376, 9295.02979372, 9296.31979368,\n",
       "       9297.60979365, 9298.89979361, 9300.18979357, 9301.47979353,\n",
       "       9302.76979349, 9304.05979346, 9305.34979342, 9306.63979338,\n",
       "       9307.92979334, 9309.2197933 , 9310.50979327, 9311.79979323,\n",
       "       9313.08979319, 9314.37979315, 9315.66979311, 9316.95979307,\n",
       "       9318.24979304, 9319.539793  , 9320.82979296, 9322.11979292,\n",
       "       9323.40979288, 9324.69979285, 9325.98979281, 9327.27979277,\n",
       "       9328.56979273, 9329.85979269, 9331.14979265, 9332.43979262,\n",
       "       9333.72979258, 9335.01979254, 9336.3097925 , 9337.59979246,\n",
       "       9338.88979243, 9340.17979239, 9341.46979235, 9342.75979231,\n",
       "       9344.04979227, 9345.33979224, 9346.6297922 , 9347.91979216,\n",
       "       9349.20979212, 9350.49979208, 9351.78979204, 9353.07979201,\n",
       "       9354.36979197, 9355.65979193, 9356.94979189, 9358.23979185,\n",
       "       9359.52979182, 9360.81979178, 9362.10979174, 9363.3997917 ,\n",
       "       9364.68979166, 9365.97979162, 9367.26979159, 9368.55979155,\n",
       "       9369.84979151, 9371.13979147, 9372.42979143, 9373.7197914 ,\n",
       "       9375.00979136, 9376.29979132, 9377.58979128, 9378.87979124,\n",
       "       9380.16979121, 9381.45979117, 9382.74979113, 9384.03979109,\n",
       "       9385.32979105, 9386.61979101, 9387.90979098, 9389.19979094,\n",
       "       9390.4897909 , 9391.77979086, 9393.06979082, 9394.35979079,\n",
       "       9395.64979075, 9396.93979071, 9398.22979067, 9399.51979063,\n",
       "       9400.80979059, 9402.09979056, 9403.38979052, 9404.67979048,\n",
       "       9405.96979044, 9407.2597904 , 9408.54979037, 9409.83979033,\n",
       "       9411.12979029, 9412.41979025, 9413.70979021, 9414.99979017,\n",
       "       9416.28979014, 9417.5797901 , 9418.86979006, 9420.15979002,\n",
       "       9421.44978998, 9422.73978995, 9424.02978991, 9425.31978987,\n",
       "       9426.60978983, 9427.89978979, 9429.18978976, 9430.47978972,\n",
       "       9431.76978968, 9433.05978964, 9434.3497896 , 9435.63978956,\n",
       "       9436.92978953, 9438.21978949, 9439.50978945, 9440.79978941,\n",
       "       9442.08978937, 9443.37978934, 9444.6697893 , 9445.95978926,\n",
       "       9447.24978922, 9448.53978918, 9449.82978914, 9451.11978911,\n",
       "       9452.40978907, 9453.69978903, 9454.98978899, 9456.27978895,\n",
       "       9457.56978892, 9458.85978888, 9460.14978884, 9461.4397888 ,\n",
       "       9462.72978876, 9464.01978873, 9465.30978869, 9466.59978865,\n",
       "       9467.88978861, 9469.17978857, 9470.46978853, 9471.7597885 ,\n",
       "       9473.04978846, 9474.33978842, 9475.62978838, 9476.91978834,\n",
       "       9478.20978831, 9479.49978827, 9480.78978823, 9482.07978819,\n",
       "       9483.36978815, 9484.65978811, 9485.94978808, 9487.23978804,\n",
       "       9488.529788  , 9489.81978796, 9491.10978792, 9492.39978789,\n",
       "       9493.68978785, 9494.97978781, 9496.26978777, 9497.55978773,\n",
       "       9498.8497877 , 9500.13978766, 9501.42978762, 9502.71978758,\n",
       "       9504.00978754, 9505.2997875 , 9506.58978747, 9507.87978743,\n",
       "       9509.16978739, 9510.45978735, 9511.74978731, 9513.03978728,\n",
       "       9514.32978724, 9515.6197872 , 9516.90978716, 9518.19978712,\n",
       "       9519.48978708, 9520.77978705, 9522.06978701, 9523.35978697,\n",
       "       9524.64978693, 9525.93978689, 9527.22978686, 9528.51978682,\n",
       "       9529.80978678, 9531.09978674, 9532.3897867 , 9533.67978667,\n",
       "       9534.96978663, 9536.25978659, 9537.54978655, 9538.83978651,\n",
       "       9540.12978647, 9541.41978644, 9542.7097864 , 9543.99978636,\n",
       "       9545.28978632, 9546.57978628, 9547.86978625, 9549.15978621,\n",
       "       9550.44978617, 9551.73978613, 9553.02978609, 9554.31978605,\n",
       "       9555.60978602, 9556.89978598, 9558.18978594, 9559.4797859 ,\n",
       "       9560.76978586, 9562.05978583, 9563.34978579, 9564.63978575,\n",
       "       9565.92978571, 9567.21978567, 9568.50978564, 9569.7997856 ,\n",
       "       9571.08978556, 9572.37978552, 9573.66978548, 9574.95978544,\n",
       "       9576.24978541, 9577.53978537, 9578.82978533, 9580.11978529,\n",
       "       9581.40978525, 9582.69978522, 9583.98978518])"
      ]
     },
     "execution_count": 75,
     "metadata": {},
     "output_type": "execute_result"
    }
   ],
   "source": [
    "wg3"
   ]
  },
  {
   "cell_type": "code",
   "execution_count": 46,
   "metadata": {},
   "outputs": [
    {
     "data": {
      "text/plain": [
       "0.0"
      ]
     },
     "execution_count": 46,
     "metadata": {},
     "output_type": "execute_result"
    }
   ],
   "source": [
    "np.max(Model(z[redshift], wg3, widths[w]))"
   ]
  },
  {
   "cell_type": "markdown",
   "metadata": {},
   "source": [
    "### Checking raw signal-to-noise"
   ]
  },
  {
   "cell_type": "code",
   "execution_count": null,
   "metadata": {},
   "outputs": [],
   "source": [
    "image = data['data_ivar'][:, 0, :]\n",
    "ivar = data['data_ivar'][:, 1, :]"
   ]
  },
  {
   "cell_type": "code",
   "execution_count": null,
   "metadata": {},
   "outputs": [],
   "source": [
    "rawsnr = image*np.sqrt(ivar)\n",
    "np.where(rawsnr == np.max(rawsnr))"
   ]
  },
  {
   "cell_type": "markdown",
   "metadata": {},
   "source": [
    "Need: For every row, i.e. ngal, check if SNR > 7. If yes, then find max 10 SNR z and w for that gal and generate PDF. If not, ignore"
   ]
  },
  {
   "cell_type": "code",
   "execution_count": null,
   "metadata": {},
   "outputs": [],
   "source": [
    "tmp = np.partition(SNR_tmp, 10, axis = 0)\n",
    "tmp = tmp[:,-10:]\n",
    "tmp.shape"
   ]
  },
  {
   "cell_type": "code",
   "execution_count": null,
   "metadata": {},
   "outputs": [],
   "source": [
    "SNR_tmp.shape"
   ]
  },
  {
   "cell_type": "code",
   "execution_count": null,
   "metadata": {},
   "outputs": [],
   "source": [
    "a = np.array([[ 6,  4,  10,  2,  2],\n",
    "               [10,  9,  8,  7,  6]])"
   ]
  },
  {
   "cell_type": "code",
   "execution_count": null,
   "metadata": {},
   "outputs": [],
   "source": [
    "a.shape"
   ]
  },
  {
   "cell_type": "code",
   "execution_count": null,
   "metadata": {},
   "outputs": [],
   "source": [
    "b = np.partition(a, 4)    # top 3 values from each row"
   ]
  },
  {
   "cell_type": "code",
   "execution_count": null,
   "metadata": {},
   "outputs": [],
   "source": [
    "b"
   ]
  },
  {
   "cell_type": "code",
   "execution_count": null,
   "metadata": {},
   "outputs": [],
   "source": [
    "b[:,-3:]"
   ]
  },
  {
   "cell_type": "code",
   "execution_count": null,
   "metadata": {},
   "outputs": [],
   "source": []
  },
  {
   "cell_type": "markdown",
   "metadata": {},
   "source": [
    "## Test with synthetic signal"
   ]
  },
  {
   "cell_type": "code",
   "execution_count": null,
   "metadata": {
    "scrolled": false
   },
   "outputs": [],
   "source": [
    "synthSpectra = np.arange(7800, 7880, .1) #Note that spacing must be geq the minimum linewidth, i.e. 0.1\n",
    "pureData = Model(1.1, synthSpectra, .2)\n",
    "errstd = 0.1\n",
    "errData = np.random.normal(0, errstd, synthSpectra.shape)\n",
    "synthData = pureData + errData[:, np.newaxis]\n",
    "\n",
    "plt.subplot(2,1,1)\n",
    "plt.plot(synthSpectra, synthData, c = 'red')\n",
    "plt.plot(synthSpectra, pureData)\n",
    "plt.xlabel(\"Wavelength\", fontname = 'serif', fontsize = 15)\n",
    "plt.ylabel(\"Flux\", fontname = 'serif', fontsize = 15)\n",
    "\n",
    "plt.subplot(2,1,2)\n",
    "plt.plot(errData)\n",
    "plt.xlabel(\"Wavelength\", fontname = 'serif', fontsize = 15)\n",
    "plt.ylabel(\"Flux Error\", fontname = 'serif', fontsize = 15)"
   ]
  },
  {
   "cell_type": "code",
   "execution_count": 121,
   "metadata": {},
   "outputs": [],
   "source": [
    "A = np.arange(1, 10, .1)\n",
    "B = np.arange(10, 19, .1)"
   ]
  },
  {
   "cell_type": "code",
   "execution_count": 128,
   "metadata": {},
   "outputs": [
    {
     "data": {
      "text/plain": [
       "<matplotlib.axes._subplots.AxesSubplot at 0x277311a7ba8>"
      ]
     },
     "execution_count": 128,
     "metadata": {},
     "output_type": "execute_result"
    },
    {
     "data": {
      "image/png": "[encoded data removed]",
      "text/plain": [
       "<Figure size 432x288 with 1 Axes>"
      ]
     },
     "metadata": {},
     "output_type": "display_data"
    }
   ],
   "source": [
    "import pandas as pd\n",
    "df = pd.DataFrame({'A':A, 'B':B})\n",
    "df.plot('A', 'B', kind='scatter')"
   ]
  },
  {
   "cell_type": "code",
   "execution_count": 132,
   "metadata": {},
   "outputs": [
    {
     "data": {
      "text/plain": [
       "array([[<matplotlib.axes._subplots.AxesSubplot object at 0x0000027731386320>,\n",
       "        <matplotlib.axes._subplots.AxesSubplot object at 0x00000277313355C0>]],\n",
       "      dtype=object)"
      ]
     },
     "execution_count": 132,
     "metadata": {},
     "output_type": "execute_result"
    },
    {
     "data": {
      "image/png": "[encoded data removed]",
      "text/plain": [
       "<Figure size 432x288 with 2 Axes>"
      ]
     },
     "metadata": {},
     "output_type": "display_data"
    }
   ],
   "source": [
    "df.hist()"
   ]
  },
  {
   "cell_type": "code",
   "execution_count": 135,
   "metadata": {},
   "outputs": [
    {
     "data": {
      "text/plain": [
       "27.303268222017525"
      ]
     },
     "execution_count": 135,
     "metadata": {},
     "output_type": "execute_result"
    }
   ],
   "source": [
    "SNR_tmp[idx, w, redshift]"
   ]
  },
  {
   "cell_type": "code",
   "execution_count": null,
   "metadata": {},
   "outputs": [],
   "source": []
  }
 ],
 "metadata": {
  "anaconda-cloud": {},
  "kernelspec": {
   "display_name": "Python 3",
   "language": "python",
   "name": "python3"
  },
  "language_info": {
   "codemirror_mode": {
    "name": "ipython",
    "version": 3
   },
   "file_extension": ".py",
   "mimetype": "text/x-python",
   "name": "python",
   "nbconvert_exporter": "python",
   "pygments_lexer": "ipython3",
   "version": "3.6.5"
  }
 },
 "nbformat": 4,
 "nbformat_minor": 2
}
