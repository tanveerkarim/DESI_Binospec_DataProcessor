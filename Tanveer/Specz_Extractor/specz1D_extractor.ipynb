{
 "cells": [
  {
   "cell_type": "code",
   "execution_count": 1,
   "metadata": {},
   "outputs": [],
   "source": [
    "%matplotlib inline\n",
    "\n",
    "import numpy as np\n",
    "import matplotlib.pyplot as plt"
   ]
  },
  {
   "cell_type": "markdown",
   "metadata": {},
   "source": [
    "## Import data"
   ]
  },
  {
   "cell_type": "code",
   "execution_count": 2,
   "metadata": {},
   "outputs": [],
   "source": [
    "data_dir = \"../../../DATA_MAY18/spec1d/\"\n",
    "fname = '2-8h30m-600-spec1d.npz'"
   ]
  },
  {
   "cell_type": "code",
   "execution_count": 3,
   "metadata": {},
   "outputs": [
    {
     "data": {
      "text/plain": [
       "numpy.lib.npyio.NpzFile"
      ]
     },
     "execution_count": 3,
     "metadata": {},
     "output_type": "execute_result"
    }
   ],
   "source": [
    "data = np.load(data_dir + fname) #object, flag (0, 1), wavelength. flags: 0 -> iamge, 1 -> ivar\n",
    "type(data)"
   ]
  },
  {
   "cell_type": "code",
   "execution_count": 4,
   "metadata": {},
   "outputs": [
    {
     "data": {
      "text/plain": [
       "(143, 2, 5632)"
      ]
     },
     "execution_count": 4,
     "metadata": {},
     "output_type": "execute_result"
    }
   ],
   "source": [
    "data['data_ivar'].shape"
   ]
  },
  {
   "cell_type": "markdown",
   "metadata": {},
   "source": [
    "Here, data is of the form ngal x 2 x no of pixels/gal"
   ]
  },
  {
   "cell_type": "code",
   "execution_count": 5,
   "metadata": {},
   "outputs": [
    {
     "name": "stdout",
     "output_type": "stream",
     "text": [
      "(2, 5632)\n",
      "(5632,)\n",
      "143\n"
     ]
    }
   ],
   "source": [
    "print(data['data_ivar'][0].shape)\n",
    "print(data['data_ivar'][0][0].shape)\n",
    "print(len(data['data_ivar']))"
   ]
  },
  {
   "cell_type": "code",
   "execution_count": 6,
   "metadata": {},
   "outputs": [],
   "source": [
    "def dataPrime(image, ivar):\n",
    "    \"\"\"Returns the ratio of data over error\n",
    "    \n",
    "    Parameters\n",
    "    ----------\n",
    "    image: 2D spectra of image\n",
    "    ivar: 2D inverse variance of image\n",
    "    \"\"\"\n",
    "    \n",
    "    return np.sqrt((image**2)*ivar)"
   ]
  },
  {
   "cell_type": "code",
   "execution_count": 7,
   "metadata": {},
   "outputs": [],
   "source": [
    "def Chi2Null(image, ivar):\n",
    "    \"\"\"Returns the null chi2 of the 2D spectra by squaring dataPrime and then summing it along column axis\"\"\"\n",
    "    \n",
    "    return np.sum((dataPrime(image, ivar))**2, axis = 1)"
   ]
  },
  {
   "cell_type": "code",
   "execution_count": 24,
   "metadata": {},
   "outputs": [],
   "source": [
    "def wave_grid(data):\n",
    "    \"\"\"Returns wavegrid based on header file from data\"\"\"\n",
    "    \n",
    "    crval1 = float(str(data['headers'][1]).split(\"CRVAL1\")[1].split(\"=\")[1].split(\"/\")[0]) #Starting value\n",
    "    cdelt1 = float(str(data['headers'][1]).split(\"CDELT1\")[1].split(\"=\")[1].split(\"/\")[0]) #Pixel size\n",
    "    \n",
    "    collapsedSpectrum = data['data_ivar'][:, 0, :]\n",
    "    \n",
    "    wave_grid = crval1 + cdelt1 * np.arange(collapsedSpectrum[1].shape[0])\n",
    "    wave_grid *= 10 #Convert wave_grid to Angstrom from nm\n",
    "    return wave_grid"
   ]
  },
  {
   "cell_type": "code",
   "execution_count": 9,
   "metadata": {},
   "outputs": [],
   "source": [
    "def lambda_to_z(wavelength):\n",
    "    \"\"\"Converts wavelength grid to redshift grid\"\"\"\n",
    "    \n",
    "    separation = (3729.875-3727.092)/2 #separation between the emission lines\n",
    "    lambda0 = 3727.092 + separation #Midpoint of the gaussian emission lines in restframe\n",
    "    \n",
    "    return (wavelength/lambda0 - 1)"
   ]
  },
  {
   "cell_type": "code",
   "execution_count": 71,
   "metadata": {},
   "outputs": [],
   "source": [
    "def Window(z, windowing_array, data, window_width = 0.005):\n",
    "    \"\"\"Returns a range of pixel in the specified window width\n",
    "    \n",
    "    Parameters\n",
    "    ----------\n",
    "    z: Centre of the window\n",
    "    windowing_array: array which is to be windowed\n",
    "    data: 2D image spectra\n",
    "    window_width: size of the window in redshift space\n",
    "    \n",
    "    Returns\n",
    "    -------\n",
    "    windowed_array: windowed array of the windowing_array    \n",
    "    \"\"\"\n",
    "    \n",
    "    wg = wave_grid(data)\n",
    "    z_grid = lambda_to_z(wg) #Convert wavelength space to redshift space\n",
    "    \n",
    "    windowed_array = windowing_array[(z_grid > (z - window_width)) & (z_grid < (z + window_width))]\n",
    "    \n",
    "    #Find the idx of the edges of the window\n",
    "    #minidx = np.where(windowing_array == np.min(windowed_array)) \n",
    "    #maxidx = np.where(windowing_array == np.max(windowed_array))\n",
    "    \n",
    "    #print(np.min(windowed_array)); print(np.max(windowed_array))\n",
    "    #return minidx, maxidx, windowed_array\n",
    "    return windowed_array"
   ]
  },
  {
   "cell_type": "code",
   "execution_count": 102,
   "metadata": {},
   "outputs": [],
   "source": [
    "def Model(z, data, width, Amp = 1):\n",
    "    \"\"\"Returns Gaussian filter model at redshift z\n",
    "    \n",
    "    Parameters\n",
    "    ----------\n",
    "    z: array of redshifts at which the model is being tested\n",
    "    data: 2D image spectra\n",
    "    width: width array of the Gaussian doublets\n",
    "    Amp: amplitude of the Gaussian doublets\n",
    "    \n",
    "    Returns\n",
    "    --------\n",
    "    model: Gaussian models in the range of [z - window_width, z + window_width]\n",
    "    \"\"\"\n",
    "    \n",
    "    lambda_r27 = 3727.092; lambda_r29 = 3729.875 #rest frame wavelength of the [OII] doublets\n",
    "    separation_r = (lambda_r29 - lambda_r27) #separation between the emission lines in rest frame\n",
    "    lambda0 = lambda_r27 + separation_r/2 #Midpoint of the gaussian emission lines in restframe\n",
    "    lambda_obs = lambda0*(1 + z) #Observed wavelength of of the midpoint\n",
    "    Gaussian = lambda x, mean, std: (1/np.sqrt(2*np.pi*std**2))*np.exp(-((x[:, np.newaxis] - mean)/std)**2)\n",
    "\n",
    "    wg = wave_grid(data)\n",
    "    z_grid = lambda_to_z(wg) #Convert wavelength space to redshift space\n",
    "    \n",
    "    z_grid2 = Window(z, z_grid, data)\n",
    "    wg2 = Window(z, wg, data)\n",
    "\n",
    "    model = Amp/2*(Gaussian(wg2, lambda_obs - separation_r, width) + Gaussian(wg2, lambda_obs + separation_r, width))\n",
    "    #model = model.T\n",
    "    \n",
    "    return model"
   ]
  },
  {
   "cell_type": "code",
   "execution_count": 103,
   "metadata": {},
   "outputs": [],
   "source": [
    "def SNR_calculator(data):\n",
    "    z_range = np.arange(1., 1.1, 0.01)\n",
    "    widths = np.arange(.5, 1., .1)\n",
    "    \n",
    "    z = 1.1\n",
    "    #for i in (z_range):\n",
    "    #    print(i)\n",
    "    \n",
    "    image = data['data_ivar'][:, 0, :]\n",
    "    ivar = data['data_ivar'][:, 1, :]\n",
    "    \n",
    "    imagePrime = dataPrime(image, ivar)\n",
    "    model = Model(z, data, widths)\n",
    "    \n",
    "    wg = wave_grid(data)\n",
    "    z_grid = lambda_to_z(wg) #Convert wavelength space to redshift space\n",
    "    \n",
    "    z_grid2 = Window(z, z_grid, data)\n",
    "    wg2 = Window(z, wg, data)\n",
    "    \n",
    "    #Find the idx of the edges of the windows and slice the image file to multiply with modelPrime\n",
    "    minidx = np.where(wg == np.min(wg2))[0][0] \n",
    "    maxidx = np.where(wg == np.max(wg2))[0][0]\n",
    "    imagePrimeSliced = imagePrime[:,minidx:maxidx+1] #QUESTION: DOES THE SLICING HAPPEN UP TO OR BEFORE THE FINAL STEP?\n",
    "    \n",
    "    \"\"\"\n",
    "    Need to figure out how to do model*np.sqrt(1/ivar) such that we get ngal x width\n",
    "    ALMOST THERE!\n",
    "    \"\"\"\n",
    "    print(image.shape)\n",
    "    print(wg.shape)\n",
    "    print(imagePrimeSliced.shape)\n",
    "    print(model.shape)\n",
    "    print(minidx)\n",
    "    print(maxidx)\n",
    "    print(wg[minidx]); print(wg[maxidx])\n",
    "    return 0"
   ]
  },
  {
   "cell_type": "code",
   "execution_count": 104,
   "metadata": {},
   "outputs": [
    {
     "name": "stdout",
     "output_type": "stream",
     "text": [
      "(143, 5632)\n",
      "(5632,)\n",
      "(143, 60)\n",
      "(60, 5)\n",
      "2519\n",
      "2578\n",
      "7811.780012010593\n",
      "7848.360012291904\n"
     ]
    },
    {
     "data": {
      "text/plain": [
       "0"
      ]
     },
     "execution_count": 104,
     "metadata": {},
     "output_type": "execute_result"
    }
   ],
   "source": [
    "SNR_calculator(data)"
   ]
  },
  {
   "cell_type": "code",
   "execution_count": 42,
   "metadata": {},
   "outputs": [
    {
     "name": "stdout",
     "output_type": "stream",
     "text": [
      "1.5950228896931415\n",
      "1.604833849103667\n",
      "9675.5000263432\n",
      "9712.080026624513\n",
      "(60, 15)\n"
     ]
    }
   ],
   "source": [
    "widths = np.arange(.5, 2., .1)\n",
    "zgrid, tmp_model = Model(1.6, data, widths)\n",
    "print(tmp_model.shape)"
   ]
  },
  {
   "cell_type": "code",
   "execution_count": 43,
   "metadata": {
    "scrolled": true
   },
   "outputs": [
    {
     "data": {
      "text/plain": [
       "[<matplotlib.lines.Line2D at 0x1720010fa20>,\n",
       " <matplotlib.lines.Line2D at 0x172000c7320>,\n",
       " <matplotlib.lines.Line2D at 0x172000c7080>,\n",
       " <matplotlib.lines.Line2D at 0x172000c7940>,\n",
       " <matplotlib.lines.Line2D at 0x172000c7d30>,\n",
       " <matplotlib.lines.Line2D at 0x172000c7fd0>,\n",
       " <matplotlib.lines.Line2D at 0x172000c74a8>,\n",
       " <matplotlib.lines.Line2D at 0x172000c7860>,\n",
       " <matplotlib.lines.Line2D at 0x172000c71d0>,\n",
       " <matplotlib.lines.Line2D at 0x172000c7908>,\n",
       " <matplotlib.lines.Line2D at 0x172000c77b8>,\n",
       " <matplotlib.lines.Line2D at 0x172000e79b0>,\n",
       " <matplotlib.lines.Line2D at 0x172000e7be0>,\n",
       " <matplotlib.lines.Line2D at 0x172000e7940>,\n",
       " <matplotlib.lines.Line2D at 0x172000e7898>]"
      ]
     },
     "execution_count": 43,
     "metadata": {},
     "output_type": "execute_result"
    },
    {
     "data": {
      "image/png": "[encoded data removed]",
      "text/plain": [
       "<matplotlib.figure.Figure at 0x1720013e470>"
      ]
     },
     "metadata": {},
     "output_type": "display_data"
    }
   ],
   "source": [
    "plt.plot(zgrid, tmp_model)\n",
    "#plt.xlim([.49,.51])"
   ]
  },
  {
   "cell_type": "code",
   "execution_count": 31,
   "metadata": {},
   "outputs": [
    {
     "name": "stdout",
     "output_type": "stream",
     "text": [
      "(5,)\n",
      "(4,)\n",
      "(5, 1)\n",
      "[[5.         2.5        1.66666667 1.25      ]\n",
      " [6.         3.         2.         1.5       ]\n",
      " [7.         3.5        2.33333333 1.75      ]\n",
      " [8.         4.         2.66666667 2.        ]\n",
      " [9.         4.5        3.         2.25      ]]\n"
     ]
    }
   ],
   "source": [
    "Gaussian = lambda x, mean, std: np.exp(-((x[:, np.newaxis] - mean[:, np.newaxis])/std)**2)\n",
    "wave_array = np.arange(4500, 5000, 1)\n",
    "z_mean = np.arange(0.5, 1., .1)\n",
    "width = np.arange(0.1, 0.5, .1)\n",
    "\n",
    "#tmpval = Gaussian(wave_array, z_mean, width)\n",
    "print(z_mean.shape);\n",
    "print(width.shape)\n",
    "print(z_mean[:, np.newaxis].shape)\n",
    "print((z_mean[:, np.newaxis]/width))"
   ]
  },
  {
   "cell_type": "markdown",
   "metadata": {},
   "source": [
    "# -----------------------"
   ]
  },
  {
   "cell_type": "code",
   "execution_count": null,
   "metadata": {},
   "outputs": [],
   "source": [
    "def modelFilter(z, width, Amp = 1):\n",
    "    \n",
    "    Gaussian = lambda x, mean, std: np.exp(-((x - mean)/std)**2)\n",
    "    \n",
    "    #Values from http://classic.sdss.org/dr6/algorithms/linestable.html\n",
    "    separation = (3729.875-3727.092)/2 #separation between the emission lines\n",
    "    lambda0 = 3727.092 + separation #Midpoint of the gaussian emission lines in restframe\n",
    "    lambda_obs = lambda0*(1 + z) #Observed wavelength of of the midpoint\n",
    "    \n",
    "    models = []\n",
    "        for i,j in enumerate(wavelength_array):\n",
    "            models.append(Amp*(Gaussian(j, lambda0[i]-separation, width) + \\\n",
    "                               Gaussian(j, lambda0[i]+separation, width)))\n",
    "            \n",
    "        models = np.asarray(models)\n",
    "        \n",
    "        return models"
   ]
  },
  {
   "cell_type": "code",
   "execution_count": null,
   "metadata": {},
   "outputs": [],
   "source": []
  },
  {
   "cell_type": "markdown",
   "metadata": {},
   "source": [
    "\n",
    "\n",
    "def modelFilter(z, width, Amp = 1):\n",
    "    \n",
    "    Gaussian = lambda x, mean, std: np.exp(-((x - mean)/std)**2)\n",
    "    \n",
    "    #Values from http://classic.sdss.org/dr6/algorithms/linestable.html\n",
    "    separation = (3729.875-3727.092)/2 #separation between the emission lines\n",
    "    lambda0 = 3727.092 + separation #Midpoint of the gaussian emission lines in restframe\n",
    "    lambda_obs = lambda0*(1 + z) #Observed wavelength of of the midpoint\n",
    "    \n",
    "    models = []\n",
    "        for i,j in enumerate(wavelength_array):\n",
    "            models.append(Amp*(Gaussian(j, lambda0[i]-separation, width) + \\\n",
    "                               Gaussian(j, lambda0[i]+separation, width)))\n",
    "            \n",
    "        models = np.asarray(models)\n",
    "        \n",
    "        return models"
   ]
  },
  {
   "cell_type": "markdown",
   "metadata": {},
   "source": [
    "# Stopped May 31 2018. This means that we can truncate everything with the conditional z_grid >= 0 since we do not care about blueshift. This reduces memory load by 20%"
   ]
  },
  {
   "cell_type": "code",
   "execution_count": null,
   "metadata": {},
   "outputs": [],
   "source": []
  },
  {
   "cell_type": "code",
   "execution_count": 166,
   "metadata": {},
   "outputs": [],
   "source": [
    "def ModelO2(wavelength_array, width, Amp = 1):\n",
    "        \"\"\"Returns the [OII] doublet model\n",
    "        Parameters: wavelength_array: Full wavelength array of MMT BinoSpec. This is constant and must be odd for lambda0 calc.\n",
    "                    width: width of the Gaussian doublets. This varies.\n",
    "                    Amp: Amplitude of the Gaussian doublets\n",
    "        \"\"\"\n",
    "\n",
    "        Gaussian = lambda x, mean, std: np.exp(-((x - mean)/std)**2)\n",
    "\n",
    "        #Values from http://classic.sdss.org/dr6/algorithms/linestable.html\n",
    "        separation = (3729.875-3727.092)/2 #separation between lambda0 and the emission lines\n",
    "        lambda0 = wavelength_array[(len(wavelength_array)+1)//2] #Take the midpoint of the wavelength_array as the centre\n",
    "                                                                 #of the Gaussian doublet.wavelength_array must be odd\n",
    "        return Amp*(Gaussian(wavelength_array, lambda0-separation, width) + Gaussian(wavelength_array, lambda0+separation, width))"
   ]
  },
  {
   "cell_type": "code",
   "execution_count": 230,
   "metadata": {},
   "outputs": [],
   "source": [
    "def ModelO2loop(wavelength_array, width, Amp = 1):\n",
    "        \"\"\"Returns the [OII] doublet model\n",
    "        Parameters: wavelength_array: Full wavelength array of MMT BinoSpec. This is constant and must be odd for lambda0 calc.\n",
    "                    width: width of the Gaussian doublets. This varies.\n",
    "                    Amp: Amplitude of the Gaussian doublets\n",
    "        \"\"\"\n",
    "        \n",
    "        Gaussian = lambda x, mean, std: np.exp(-((x[:, np.newaxis] - mean)/std)**2)\n",
    "\n",
    "        #Values from http://classic.sdss.org/dr6/algorithms/linestable.html\n",
    "        separation = (3729.875-3727.092)/2 #separation between lambda0 and the emission lines\n",
    "        lambda0 = wavelength_array[:,(len(wavelength_array[0])+1)//2] #Take the midpoint of the wavelength_array as the centre\n",
    "                                                                 #of the Gaussian doublet.wavelength_array must be odd\n",
    "        #print(lambda0)\n",
    "        models = []\n",
    "        for i,j in enumerate(wavelength_array):\n",
    "            models.append(Amp*(Gaussian(j, lambda0[i]-separation, width) + \\\n",
    "                               Gaussian(j, lambda0[i]+separation, width)))\n",
    "            \n",
    "        models = np.asarray(models)\n",
    "        \n",
    "        return models"
   ]
  },
  {
   "cell_type": "code",
   "execution_count": 240,
   "metadata": {},
   "outputs": [
    {
     "name": "stdout",
     "output_type": "stream",
     "text": [
      "[4500 4502 4504 4506 4508]\n",
      "[[0.00000000e+000 2.56087816e-231 3.27219758e-103 2.24955818e-058]\n",
      " [3.12040414e-296 1.32908486e-074 1.46562690e-033 3.39537837e-019]\n",
      " [8.30386925e-017 9.54597133e-005 1.63400503e-002 9.88450741e-002]\n",
      " [1.62104336e-084 1.89767202e-021 9.06899995e-010 1.11001229e-005]\n",
      " [8.30386925e-017 9.54597133e-005 1.63400503e-002 9.88450741e-002]]\n"
     ]
    }
   ],
   "source": [
    "print(tmpwindow[0])\n",
    "print(ModelO2loop(tmpwindow,np.arange(.1, .5, .1))[0])\n",
    "#plt.plot(ModelO2loop(tmpwindow,np.arange(.1, .5, .1))[0])"
   ]
  },
  {
   "cell_type": "code",
   "execution_count": 182,
   "metadata": {},
   "outputs": [],
   "source": [
    "def Window(wavelength_array, ngal, pixel_size, window_size_multiplier):\n",
    "        \"\"\"Returns windows to run the Model function over to speed up calculation\n",
    "        Parameters: wavelength_array: Full wavelength array of MMT BinoSpec. This is constant\n",
    "                    ngal: number of galaxies in a given data file\n",
    "                    pixel_size: width of pixels in wavelength_array\n",
    "                    window_size_multiplier: Multiple this with pixel size to get width of window in wavelength_array space\n",
    "        Returns: nwindow_ndarray: l x m x n ndarray where l = ngal, m = number of windows and \n",
    "                                n = pixels per windowsize\n",
    "        \"\"\"\n",
    "\n",
    "        nwindow = (wavelength_array[-1] - wavelength_array[0])//pixel_size #number of windows per galaxy. \n",
    "                                                        #It is of this form b/c beyond this window exceeds the wavelength_array\n",
    "        nwindow_array = []\n",
    "\n",
    "        #Generate nwindow windows\n",
    "        print(wavelength_array[-1])\n",
    "        for i in range(nwindow):\n",
    "            tmp = np.arange(wavelength_array[i], wavelength_array[i] + pixel_size*(window_size_multiplier), \\\n",
    "                                         pixel_size)\n",
    "            if(tmp[-1] > (wavelength_array[-1] + pixel_size)):\n",
    "                break\n",
    "            else:\n",
    "                nwindow_array.append(tmp)\n",
    "\n",
    "        nwindow_array = np.asarray(nwindow_array)\n",
    "        \n",
    "        #Repeat nwindow_arary ngal times \n",
    "        #https://stackoverflow.com/questions/32171917/copy-2d-array-into-3rd-dimension-n-times-python\n",
    "        nwindow_ndarray = np.repeat(nwindow_array[np.newaxis, :, :], ngal, axis=0)\n",
    "\n",
    "        #return nwindow_ndarray\n",
    "        return nwindow_array"
   ]
  },
  {
   "cell_type": "code",
   "execution_count": 201,
   "metadata": {},
   "outputs": [
    {
     "name": "stdout",
     "output_type": "stream",
     "text": [
      "4598\n"
     ]
    },
    {
     "data": {
      "text/plain": [
       "array([4500, 4502, 4504, 4506, 4508])"
      ]
     },
     "execution_count": 201,
     "metadata": {},
     "output_type": "execute_result"
    }
   ],
   "source": [
    "pixel_size = 2\n",
    "wave_grid = np.arange(4500, 4600, pixel_size);\n",
    "#print(len(wave_grid))\n",
    "#print(wave_grid)\n",
    "tmpwindow = Window(wave_grid, ngal = 1, pixel_size = pixel_size, window_size_multiplier=5)\n",
    "tmpwindow[0]"
   ]
  },
  {
   "cell_type": "code",
   "execution_count": 206,
   "metadata": {},
   "outputs": [],
   "source": [
    "tmpmodel = ModelO2(tmpwindow[10], .1)"
   ]
  },
  {
   "cell_type": "code",
   "execution_count": 207,
   "metadata": {},
   "outputs": [
    {
     "data": {
      "text/plain": [
       "[<matplotlib.lines.Line2D at 0x1ef1bb70f60>]"
      ]
     },
     "execution_count": 207,
     "metadata": {},
     "output_type": "execute_result"
    },
    {
     "data": {
      "image/png": "[encoded data removed]",
      "text/plain": [
       "<matplotlib.figure.Figure at 0x1ef1bb22278>"
      ]
     },
     "metadata": {},
     "output_type": "display_data"
    }
   ],
   "source": [
    "plt.plot(tmpmodel)"
   ]
  },
  {
   "cell_type": "code",
   "execution_count": 153,
   "metadata": {},
   "outputs": [],
   "source": [
    "Gaussian = lambda x, mean, std: np.exp(-((x[:, np.newaxis] - mean)/std)**2)\n",
    "vecGaussian = np.vectorize(Gaussian, excluded=['x'])"
   ]
  },
  {
   "cell_type": "code",
   "execution_count": 176,
   "metadata": {},
   "outputs": [
    {
     "data": {
      "text/plain": [
       "[<matplotlib.lines.Line2D at 0x1ef1b8970f0>,\n",
       " <matplotlib.lines.Line2D at 0x1ef1b897278>,\n",
       " <matplotlib.lines.Line2D at 0x1ef1b8973c8>,\n",
       " <matplotlib.lines.Line2D at 0x1ef1b897518>]"
      ]
     },
     "execution_count": 176,
     "metadata": {},
     "output_type": "execute_result"
    },
    {
     "data": {
      "image/png": "[encoded data removed]",
      "text/plain": [
       "<matplotlib.figure.Figure at 0x1ef1b83dd30>"
      ]
     },
     "metadata": {},
     "output_type": "display_data"
    }
   ],
   "source": [
    "plt.plot(np.arange(0,10,.1), Gaussian(np.arange(0,10,.1), np.arange(1,5,1), np.arange(.1,.5,.1))) #np.arange(.1,.5,.1)))"
   ]
  },
  {
   "cell_type": "code",
   "execution_count": 179,
   "metadata": {},
   "outputs": [
    {
     "data": {
      "text/plain": [
       "(100, 4)"
      ]
     },
     "execution_count": 179,
     "metadata": {},
     "output_type": "execute_result"
    }
   ],
   "source": [
    "Gaussian(np.arange(0,10,.1), np.arange(1,5,1), np.arange(.1,.5,.1)).shape"
   ]
  },
  {
   "cell_type": "code",
   "execution_count": 208,
   "metadata": {},
   "outputs": [
    {
     "name": "stdout",
     "output_type": "stream",
     "text": [
      "[4500 4502 4504 4506 4508]\n",
      "[4502 4504 4506 4508 4510]\n",
      "[4504 4506 4508 4510 4512]\n",
      "[4506 4508 4510 4512 4514]\n",
      "[4508 4510 4512 4514 4516]\n",
      "[4510 4512 4514 4516 4518]\n",
      "[4512 4514 4516 4518 4520]\n",
      "[4514 4516 4518 4520 4522]\n",
      "[4516 4518 4520 4522 4524]\n",
      "[4518 4520 4522 4524 4526]\n",
      "[4520 4522 4524 4526 4528]\n",
      "[4522 4524 4526 4528 4530]\n",
      "[4524 4526 4528 4530 4532]\n",
      "[4526 4528 4530 4532 4534]\n",
      "[4528 4530 4532 4534 4536]\n",
      "[4530 4532 4534 4536 4538]\n",
      "[4532 4534 4536 4538 4540]\n",
      "[4534 4536 4538 4540 4542]\n",
      "[4536 4538 4540 4542 4544]\n",
      "[4538 4540 4542 4544 4546]\n",
      "[4540 4542 4544 4546 4548]\n",
      "[4542 4544 4546 4548 4550]\n",
      "[4544 4546 4548 4550 4552]\n",
      "[4546 4548 4550 4552 4554]\n",
      "[4548 4550 4552 4554 4556]\n",
      "[4550 4552 4554 4556 4558]\n",
      "[4552 4554 4556 4558 4560]\n",
      "[4554 4556 4558 4560 4562]\n",
      "[4556 4558 4560 4562 4564]\n",
      "[4558 4560 4562 4564 4566]\n",
      "[4560 4562 4564 4566 4568]\n",
      "[4562 4564 4566 4568 4570]\n",
      "[4564 4566 4568 4570 4572]\n",
      "[4566 4568 4570 4572 4574]\n",
      "[4568 4570 4572 4574 4576]\n",
      "[4570 4572 4574 4576 4578]\n",
      "[4572 4574 4576 4578 4580]\n",
      "[4574 4576 4578 4580 4582]\n",
      "[4576 4578 4580 4582 4584]\n",
      "[4578 4580 4582 4584 4586]\n",
      "[4580 4582 4584 4586 4588]\n",
      "[4582 4584 4586 4588 4590]\n",
      "[4584 4586 4588 4590 4592]\n",
      "[4586 4588 4590 4592 4594]\n",
      "[4588 4590 4592 4594 4596]\n",
      "[4590 4592 4594 4596 4598]\n",
      "[4592 4594 4596 4598 4600]\n"
     ]
    }
   ],
   "source": [
    "for i in tmpwindow:\n",
    "    print(i)"
   ]
  },
  {
   "cell_type": "markdown",
   "metadata": {},
   "source": [
    "## Synthetic data"
   ]
  },
  {
   "cell_type": "code",
   "execution_count": null,
   "metadata": {},
   "outputs": [],
   "source": [
    "def Model(params, Amp = 1, std = 0.75): #Default, A = 1, std = 0.75\n",
    "    \"\"\"Returns the [OII] doublet model\n",
    "    Parameters: Amp Amplitude\n",
    "                params: tuple of spectra and lambda0 (centre point of the Model)\n",
    "    \"\"\"\n",
    "    \n",
    "    spectra, lambda0 = params\n",
    "    Gaussian = lambda x, mean, std: np.exp(-((x - mean)/std)**2)\n",
    "    \n",
    "    #Values from http://classic.sdss.org/dr6/algorithms/linestable.html\n",
    "    separation = (3729.875-3727.092)/2 #separation between lambda0 and the emission lines\n",
    "    \n",
    "    return Amp*(Gaussian(spectra, lambda0-separation, std) + Gaussian(spectra, lambda0+separation, std))"
   ]
  },
  {
   "cell_type": "code",
   "execution_count": null,
   "metadata": {},
   "outputs": [],
   "source": [
    "wavelength_grid = np.arange(4500, 4550, .5) \n",
    "ngal = 64 #Number of galaxy in one data file"
   ]
  },
  {
   "cell_type": "code",
   "execution_count": null,
   "metadata": {},
   "outputs": [],
   "source": [
    "synthSpectra = np.arange(4500, 5000, .5) #Note that spacing must be geq the minimum linewidth, i.e. 0.1\n",
    "pureData = Model((synthSpectra, 4730), 1, .1)\n",
    "errstd = 0.05\n",
    "errData = np.random.normal(0, errstd, synthSpectra.shape)\n",
    "synthData = pureData + errData\n",
    "\n",
    "plt.subplot(2,1,1)\n",
    "plt.plot(synthSpectra, synthData)\n",
    "plt.plot(synthSpectra, pureData)\n",
    "plt.xlabel(\"Wavelength\", fontname = 'serif', fontsize = 15)\n",
    "plt.ylabel(\"Flux\", fontname = 'serif', fontsize = 15)\n",
    "\n",
    "plt.subplot(2,1,2)\n",
    "plt.plot(errData)\n",
    "plt.xlabel(\"Wavelength\", fontname = 'serif', fontsize = 15)\n",
    "plt.ylabel(\"Flux Error\", fontname = 'serif', fontsize = 15)"
   ]
  },
  {
   "cell_type": "code",
   "execution_count": null,
   "metadata": {},
   "outputs": [],
   "source": [
    "def SNR_Calculatorv1(wavelength, flux, err):\n",
    "    \"\"\"Returns the SNR and lambda0 such that SNR is a function of lambda0\n",
    "    Parameters: wavelength: array of wavelength range over which to test the filter\n",
    "                flux: array of flux corresponding to the wavelength range\n",
    "                err: array of flux error\n",
    "                \n",
    "    Returns: SNR: Signal-to-noise ratios of Amplitude\n",
    "             lambda0: Different central values of the filter\n",
    "    \"\"\"\n",
    "    \n",
    "    lambda0_emitted = 3727.092 + (3729.875-3727.092)/2 #Midpoint of OII doublet\n",
    "        \n",
    "    #Initialise numpy arrays\n",
    "    width = np.arange(0.1, 2.1, .1) #To calculate SNR at different linewidth\n",
    "    z = np.zeros(len(wavelength))\n",
    "    SNR = np.zeros((len(width), len(wavelength))) #width vs z grid\n",
    "    dataPrime = flux/err #signal of data\n",
    "    \n",
    "    #Calculate SNR at different lambda0 and w\n",
    "    for i in range(len(wavelength)):\n",
    "        for j in range(len(width)):\n",
    "            lambda0 = wavelength[i]\n",
    "            modelFlux = Model((wavelength, lambda0), 1, width[j])\n",
    "            modelPrime = modelFlux/err\n",
    "            \n",
    "            \"\"\"A = (fluxPrime (dot) modelPrime)/(modelPrime (dot) modelPrime)\n",
    "            sigmaA = 1/sqrt(modelPrime (dot) modelPrime)\n",
    "            SNR = A/sigmaA\"\"\"\n",
    "            sigmaA = 1./np.sqrt(np.dot(modelPrime, modelPrime))\n",
    "            A = np.dot(dataPrime, modelPrime)/(sigmaA**(-2))\n",
    "            SNR[j][i] = A/sigmaA\n",
    "            \n",
    "        #Convert lambda0 to z\n",
    "        z[i] = lambda0/lambda0_emitted - 1\n",
    "    \n",
    "    return SNR, z, width"
   ]
  },
  {
   "cell_type": "code",
   "execution_count": null,
   "metadata": {},
   "outputs": [],
   "source": [
    "import time"
   ]
  },
  {
   "cell_type": "code",
   "execution_count": null,
   "metadata": {},
   "outputs": [],
   "source": [
    "t0 = time.time()\n",
    "SNRv1, z, w = SNR_Calculatorv1(synthSpectra, synthData, errstd)\n",
    "t1 = time.time()\n",
    "totalv1 = t1-t0"
   ]
  },
  {
   "cell_type": "code",
   "execution_count": null,
   "metadata": {},
   "outputs": [],
   "source": [
    "def SNR_Calculatorv2(wavelength, flux, err):\n",
    "    \"\"\"Returns the SNR and lambda0 such that SNR is a function of lambda0\n",
    "    Parameters: wavelength: array of wavelength range over which to test the filter\n",
    "                flux: array of flux corresponding to the wavelength range\n",
    "                err: array of flux error\n",
    "                \n",
    "    Returns: SNR: Signal-to-noise ratios of Amplitude\n",
    "             lambda0: Different central values of the filter\n",
    "    \"\"\"\n",
    "    \n",
    "    lambda0_emitted = 3727.092 + (3729.875-3727.092)/2 #Midpoint of OII doublet\n",
    "        \n",
    "    #Initialise numpy arrays\n",
    "    width = np.arange(0.1, 2.1, .1) #To calculate SNR at different linewidth\n",
    "    z = np.zeros(len(wavelength))\n",
    "    SNR = np.zeros((len(width), len(wavelength))) #width vs z grid\n",
    "    dataPrime = flux/err #signal of data\n",
    "    #Calculate SNR at different lambda0 and w\n",
    "    for i in range(len(wavelength)-50): \n",
    "        #The window is 100 px wide with centre at the 50th px. Hence we go upto nth-50 such that we do not have index error\n",
    "        for j in range(len(width)):\n",
    "            lambda0 = wavelength[i+50]\n",
    "            modelFlux = Model((wavelength[i:i+100], lambda0), 1, width[j])\n",
    "            modelPrime = modelFlux/err\n",
    "            \n",
    "            \"\"\"A = (fluxPrime (dot) modelPrime)/(modelPrime (dot) modelPrime)\n",
    "            sigmaA = 1/sqrt(modelPrime (dot) modelPrime)\n",
    "            SNR = A/sigmaA\"\"\"\n",
    "            sigmaA = 1./np.sqrt(np.dot(modelPrime, modelPrime))\n",
    "            A = np.dot(dataPrime[i:i+100], modelPrime)/(sigmaA**(-2))\n",
    "            SNR[j][i] = A/sigmaA\n",
    "            \n",
    "        #Convert lambda0 to z\n",
    "        z[i] = lambda0/lambda0_emitted - 1\n",
    "    \n",
    "    return SNR, z, width"
   ]
  },
  {
   "cell_type": "code",
   "execution_count": null,
   "metadata": {},
   "outputs": [],
   "source": [
    "t0 = time.time()\n",
    "SNRv2, z, w = SNR_Calculatorv2(synthSpectra, synthData, errstd)\n",
    "t1 = time.time()\n",
    "totalv2 = t1-t0"
   ]
  },
  {
   "cell_type": "code",
   "execution_count": null,
   "metadata": {},
   "outputs": [],
   "source": [
    "print(totalv1)\n",
    "print(totalv2)"
   ]
  },
  {
   "cell_type": "code",
   "execution_count": null,
   "metadata": {},
   "outputs": [],
   "source": [
    "import seaborn as sns"
   ]
  },
  {
   "cell_type": "code",
   "execution_count": null,
   "metadata": {},
   "outputs": [],
   "source": [
    "plt.imshow(SNRv1, aspect = 'auto')"
   ]
  },
  {
   "cell_type": "code",
   "execution_count": null,
   "metadata": {},
   "outputs": [],
   "source": [
    "np.where(SNRv1 == SNRv1.max())"
   ]
  },
  {
   "cell_type": "code",
   "execution_count": null,
   "metadata": {},
   "outputs": [],
   "source": [
    "plt.imshow(SNRv2, aspect = 'auto')"
   ]
  },
  {
   "cell_type": "code",
   "execution_count": null,
   "metadata": {},
   "outputs": [],
   "source": [
    "np.where(SNRv2 == SNRv2.max())"
   ]
  },
  {
   "cell_type": "code",
   "execution_count": null,
   "metadata": {},
   "outputs": [],
   "source": [
    "SNRv2[0][410]"
   ]
  },
  {
   "cell_type": "code",
   "execution_count": null,
   "metadata": {},
   "outputs": [],
   "source": [
    "SNRv1[0][460]"
   ]
  },
  {
   "cell_type": "code",
   "execution_count": null,
   "metadata": {},
   "outputs": [],
   "source": [
    "plt.plot(ModelO2(np.arange(4500,4560,.5), .5))"
   ]
  }
 ],
 "metadata": {
  "anaconda-cloud": {},
  "kernelspec": {
   "display_name": "Python [default]",
   "language": "python",
   "name": "python3"
  },
  "language_info": {
   "codemirror_mode": {
    "name": "ipython",
    "version": 3
   },
   "file_extension": ".py",
   "mimetype": "text/x-python",
   "name": "python",
   "nbconvert_exporter": "python",
   "pygments_lexer": "ipython3",
   "version": "3.5.4"
  }
 },
 "nbformat": 4,
 "nbformat_minor": 2
}
