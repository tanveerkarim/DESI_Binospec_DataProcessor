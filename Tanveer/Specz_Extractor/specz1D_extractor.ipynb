{
 "cells": [
  {
   "cell_type": "code",
   "execution_count": 2,
   "metadata": {},
   "outputs": [],
   "source": [
    "%matplotlib inline\n",
    "\n",
    "import numpy as np\n",
    "import matplotlib.pyplot as plt"
   ]
  },
  {
   "cell_type": "markdown",
   "metadata": {},
   "source": [
    "## Import data"
   ]
  },
  {
   "cell_type": "code",
   "execution_count": 3,
   "metadata": {},
   "outputs": [],
   "source": [
    "data_dir = \"../../../DATA_MAY18/spec1d/\"\n",
    "fname = '2-8h30m-600-spec1d.npz'"
   ]
  },
  {
   "cell_type": "code",
   "execution_count": 4,
   "metadata": {},
   "outputs": [],
   "source": [
    "data = np.load(data_dir + fname) #object, flag (0, 1), wavelength. flags: 0 -> iamge, 1 -> ivar"
   ]
  },
  {
   "cell_type": "code",
   "execution_count": 5,
   "metadata": {},
   "outputs": [],
   "source": [
    "def dataPrime(image, ivar):\n",
    "    \"\"\"Returns the ratio of data over error\n",
    "    \n",
    "    Parameters\n",
    "    ----------\n",
    "    image: 2D spectra of image\n",
    "    ivar: 2D inverse variance of image\n",
    "    \"\"\"\n",
    "    \n",
    "    return np.sqrt((image**2)*ivar)"
   ]
  },
  {
   "cell_type": "code",
   "execution_count": 6,
   "metadata": {},
   "outputs": [],
   "source": [
    "def Chi2Null(image, ivar):\n",
    "    \"\"\"Returns the null chi2 of the 2D spectra by squaring dataPrime and then summing it along column axis\"\"\"\n",
    "    \n",
    "    return np.sum((dataPrime(image, ivar))**2, axis = 1)"
   ]
  },
  {
   "cell_type": "code",
   "execution_count": 7,
   "metadata": {},
   "outputs": [],
   "source": [
    "def wave_grid(data):\n",
    "    \"\"\"Returns wavegrid based on header file from data\"\"\"\n",
    "    \n",
    "    crval1 = float(str(data['headers'][1]).split(\"CRVAL1\")[1].split(\"=\")[1].split(\"/\")[0]) #Starting value\n",
    "    cdelt1 = float(str(data['headers'][1]).split(\"CDELT1\")[1].split(\"=\")[1].split(\"/\")[0]) #Pixel size\n",
    "    \n",
    "    collapsedSpectrum = data['data_ivar'][:, 0, :]\n",
    "    \n",
    "    wave_grid = crval1 + cdelt1 * np.arange(collapsedSpectrum[1].shape[0])\n",
    "    wave_grid *= 10 #Convert wave_grid to Angstrom from nm\n",
    "    return wave_grid"
   ]
  },
  {
   "cell_type": "code",
   "execution_count": 8,
   "metadata": {},
   "outputs": [],
   "source": [
    "def lambda_to_z(wavelength):\n",
    "    \"\"\"Converts wavelength grid to redshift grid\"\"\"\n",
    "    \n",
    "    separation = (3729.875-3727.092)/2 #separation between the emission lines\n",
    "    lambda0 = 3727.092 + separation #Midpoint of the gaussian emission lines in restframe\n",
    "    \n",
    "    return (wavelength/lambda0 - 1)"
   ]
  },
  {
   "cell_type": "code",
   "execution_count": 9,
   "metadata": {},
   "outputs": [],
   "source": [
    "def Window(z, wg, z_grid, window_width = 0.005):\n",
    "    \"\"\"Returns a range of pixel in the specified window width\n",
    "    \n",
    "    Parameters\n",
    "    ----------\n",
    "    z: Centre of the window\n",
    "    wg: wave grid that needs to be windowed\n",
    "    z_grid: redshift grid of the wave_grid\n",
    "    window_width: size of the window in redshift space\n",
    "    \n",
    "    Returns\n",
    "    -------\n",
    "    windowed_array: windowed array of the windowing_array    \n",
    "    \"\"\"\n",
    "    windowed_array = wg[(z_grid > (z - window_width)) & (z_grid < (z + window_width))]\n",
    "    \n",
    "    #Find the idx of the edges of the window\n",
    "    #minidx = np.where(windowing_array == np.min(windowed_array)) \n",
    "    #maxidx = np.where(windowing_array == np.max(windowed_array))\n",
    "    \n",
    "    #print(np.min(windowed_array)); print(np.max(windowed_array))\n",
    "    #return minidx, maxidx, windowed_array\n",
    "    return windowed_array"
   ]
  },
  {
   "cell_type": "code",
   "execution_count": 10,
   "metadata": {},
   "outputs": [],
   "source": [
    "def Model(z, wg2, width, Amp = 1):\n",
    "    \"\"\"Returns Gaussian filter model at redshift z\n",
    "    \n",
    "    Parameters\n",
    "    ----------\n",
    "    z: array of redshifts at which the model is being tested\n",
    "    wg2: pixel grid of the Window\n",
    "    width: width array of the Gaussian doublets\n",
    "    Amp: amplitude of the Gaussian doublets\n",
    "    \n",
    "    Returns\n",
    "    --------\n",
    "    model: Gaussian models in the range of [z - window_width, z + window_width]\n",
    "    \"\"\"\n",
    "    \n",
    "    lambda_r27 = 3727.092; lambda_r29 = 3729.875 #rest frame wavelength of the [OII] doublets\n",
    "    separation_r = (lambda_r29 - lambda_r27) #separation between the emission lines in rest frame\n",
    "    lambda0 = lambda_r27 + separation_r/2 #Midpoint of the gaussian emission lines in restframe\n",
    "    lambda_obs = lambda0*(1 + z) #Observed wavelength of of the midpoint\n",
    "    Gaussian = lambda x, mean, std: (1/np.sqrt(2*np.pi*std**2))*np.exp(-((x[:, np.newaxis] - mean)/std)**2)\n",
    "\n",
    "    model = Amp/2*(Gaussian(wg2, lambda_obs - separation_r, width) + Gaussian(wg2, lambda_obs + separation_r, width))\n",
    "        \n",
    "    return model"
   ]
  },
  {
   "cell_type": "code",
   "execution_count": 11,
   "metadata": {},
   "outputs": [],
   "source": [
    "def SNR_calculator(data):\n",
    "    z_range = np.arange(0.7, 1.6, 0.001)\n",
    "    widths = np.arange(.5, 1., .1)\n",
    "    \n",
    "    #Read data\n",
    "    image = data['data_ivar'][:, 0, :]\n",
    "    ivar = data['data_ivar'][:, 1, :]\n",
    "    wg = wave_grid(data)\n",
    "    z_grid = lambda_to_z(wg) #Convert wavelength space to redshift space\n",
    "    \n",
    "    results = np.zeros((z_range.size, image.shape[0], widths.size))\n",
    "    \n",
    "    for i, z in enumerate(z_range):\n",
    "        wg2 = Window(z, wg, z_grid)\n",
    "        \n",
    "        model = Model(z, wg2, widths)\n",
    "        \n",
    "        #Find the idx of the edges of the windows and slice the image file to multiply with modelPrime\n",
    "        minidx = np.where(wg == np.min(wg2))[0][0] \n",
    "        maxidx = np.where(wg == np.max(wg2))[0][0]\n",
    "        imageSliced = image[:,minidx:maxidx+1]\n",
    "        imageSliced = imageSliced[:, :, np.newaxis] #Broadcasting\n",
    "        ivarSliced = ivar[:,minidx:maxidx+1]\n",
    "        ivarSliced = ivarSliced[:, :, np.newaxis] #Broadcasting\n",
    "        imagePrimeSliced = imageSliced*np.sqrt(ivarSliced)\n",
    "        \n",
    "        Mprime = np.sqrt(ivarSliced)*model\n",
    "        Denominator = Mprime**2\n",
    "        Denominator = np.sum(Denominator, axis = 1)\n",
    "        Numerator = Mprime*imagePrimeSliced\n",
    "        Numerator = np.sum(Numerator, axis = 1)\n",
    "        \n",
    "        \"\"\"\n",
    "        sigmaA^(-2) = M'.M'\n",
    "        A = (D'.M')/(M'.M') => (D'.M')*(sigmaA^(2))\n",
    "        \"\"\"\n",
    "        \n",
    "        Amp = Numerator/Denominator\n",
    "        sigmaA = np.sqrt(1./Denominator)\n",
    "        SNR = Amp/sigmaA\n",
    "        \n",
    "        results[i] = SNR\n",
    "        \n",
    "    results = results.reshape((image.shape[0], z_range.size, widths.size))\n",
    "    \n",
    "    return z_range, results"
   ]
  },
  {
   "cell_type": "code",
   "execution_count": 12,
   "metadata": {
    "scrolled": true
   },
   "outputs": [
    {
     "name": "stderr",
     "output_type": "stream",
     "text": [
      "C:\\Users\\tanve\\Anaconda3\\lib\\site-packages\\ipykernel_launcher.py:38: RuntimeWarning: invalid value encountered in true_divide\n",
      "C:\\Users\\tanve\\Anaconda3\\lib\\site-packages\\ipykernel_launcher.py:39: RuntimeWarning: divide by zero encountered in true_divide\n"
     ]
    },
    {
     "name": "stdout",
     "output_type": "stream",
     "text": [
      "1.6602389812469482\n"
     ]
    }
   ],
   "source": [
    "from time import time\n",
    "\n",
    "start = time()\n",
    "z, SNR_tmp = SNR_calculator(data)\n",
    "end = time()\n",
    "\n",
    "tot_time = end - start\n",
    "print(str(tot_time))"
   ]
  },
  {
   "cell_type": "markdown",
   "metadata": {},
   "source": [
    "### 45000 models over 143 galaxies ~ 8.10 seconds"
   ]
  },
  {
   "cell_type": "markdown",
   "metadata": {},
   "source": [
    "### -------"
   ]
  },
  {
   "cell_type": "markdown",
   "metadata": {},
   "source": [
    "## Find the highest SNR models"
   ]
  },
  {
   "cell_type": "markdown",
   "metadata": {},
   "source": [
    "In this section, we write a function that extracts the highest SNR models that crosses the threshold of SNR = 7 for a given galaxy and generates PDFs for us to visually inspect. We heuristically pick the number 10 to test this."
   ]
  },
  {
   "cell_type": "code",
   "execution_count": 13,
   "metadata": {},
   "outputs": [
    {
     "data": {
      "text/plain": [
       "(143, 901, 5)"
      ]
     },
     "execution_count": 13,
     "metadata": {},
     "output_type": "execute_result"
    }
   ],
   "source": [
    "SNR_tmp.shape"
   ]
  },
  {
   "cell_type": "code",
   "execution_count": 14,
   "metadata": {},
   "outputs": [
    {
     "name": "stdout",
     "output_type": "stream",
     "text": [
      "(901, 5)\n"
     ]
    },
    {
     "data": {
      "text/plain": [
       "Text(0.5,0,'width')"
      ]
     },
     "execution_count": 14,
     "metadata": {},
     "output_type": "execute_result"
    },
    {
     "data": {
      "image/png": "[encoded data removed]",
      "text/plain": [
       "<Figure size 432x288 with 2 Axes>"
      ]
     },
     "metadata": {},
     "output_type": "display_data"
    }
   ],
   "source": [
    "print(SNR_tmp[1].shape)\n",
    "plt.imshow(SNR_tmp[0], aspect='auto')\n",
    "plt.colorbar()\n",
    "plt.xlabel('width')"
   ]
  },
  {
   "cell_type": "code",
   "execution_count": 73,
   "metadata": {},
   "outputs": [
    {
     "data": {
      "text/plain": [
       "630"
      ]
     },
     "execution_count": 73,
     "metadata": {},
     "output_type": "execute_result"
    }
   ],
   "source": [
    "i = 10\n",
    "np.where(np.nanmax(SNR_tmp[i]) == SNR_tmp[i])[0][0]"
   ]
  },
  {
   "cell_type": "code",
   "execution_count": 74,
   "metadata": {},
   "outputs": [
    {
     "data": {
      "text/plain": [
       "171.98947727093682"
      ]
     },
     "execution_count": 74,
     "metadata": {},
     "output_type": "execute_result"
    }
   ],
   "source": [
    "np.nanmax(SNR_tmp[i])"
   ]
  },
  {
   "cell_type": "code",
   "execution_count": 75,
   "metadata": {
    "scrolled": true
   },
   "outputs": [
    {
     "data": {
      "text/plain": [
       "array([123.68182647, 139.08010522, 151.4080403 , 162.12381818,\n",
       "       171.98947727])"
      ]
     },
     "execution_count": 75,
     "metadata": {},
     "output_type": "execute_result"
    }
   ],
   "source": [
    "SNR_tmp[i, np.where(np.nanmax(SNR_tmp[i]) == SNR_tmp[i])[0][0]]"
   ]
  },
  {
   "cell_type": "code",
   "execution_count": 76,
   "metadata": {},
   "outputs": [
    {
     "data": {
      "text/plain": [
       "(901,)"
      ]
     },
     "execution_count": 76,
     "metadata": {},
     "output_type": "execute_result"
    }
   ],
   "source": [
    "SNR_tmp[i, :, 4].shape"
   ]
  },
  {
   "cell_type": "code",
   "execution_count": 77,
   "metadata": {},
   "outputs": [
    {
     "data": {
      "text/plain": [
       "1.3300000000000005"
      ]
     },
     "execution_count": 77,
     "metadata": {},
     "output_type": "execute_result"
    }
   ],
   "source": [
    "z[np.where(np.nanmax(SNR_tmp[i]) == SNR_tmp[i])[0][0]]"
   ]
  },
  {
   "cell_type": "code",
   "execution_count": 82,
   "metadata": {},
   "outputs": [
    {
     "data": {
      "text/plain": [
       "[<matplotlib.lines.Line2D at 0x1c265f93b38>]"
      ]
     },
     "execution_count": 82,
     "metadata": {},
     "output_type": "execute_result"
    },
    {
     "data": {
      "image/png": "[encoded data removed]",
      "text/plain": [
       "<Figure size 432x288 with 1 Axes>"
      ]
     },
     "metadata": {},
     "output_type": "display_data"
    }
   ],
   "source": [
    "plt.plot(z, SNR_tmp[i, :, 0])\n",
    "plt.plot(z, SNR_tmp[i, :, 1])\n",
    "#plt.plot(z, SNR_tmp[i, :, 2])\n",
    "#plt.xlim([1.46, 1.48])"
   ]
  },
  {
   "cell_type": "code",
   "execution_count": 79,
   "metadata": {},
   "outputs": [
    {
     "data": {
      "text/plain": [
       "(901,)"
      ]
     },
     "execution_count": 79,
     "metadata": {},
     "output_type": "execute_result"
    }
   ],
   "source": [
    "SNR_tmp[i, :, 4].shape"
   ]
  },
  {
   "cell_type": "code",
   "execution_count": 58,
   "metadata": {
    "scrolled": true
   },
   "outputs": [
    {
     "name": "stdout",
     "output_type": "stream",
     "text": [
      "(5632,)\n"
     ]
    },
    {
     "data": {
      "text/plain": [
       "(700, 4800)"
      ]
     },
     "execution_count": 58,
     "metadata": {},
     "output_type": "execute_result"
    },
    {
     "data": {
      "image/png": "[encoded data removed]",
      "text/plain": [
       "<Figure size 432x288 with 1 Axes>"
      ]
     },
     "metadata": {},
     "output_type": "display_data"
    }
   ],
   "source": [
    "#idx = \n",
    "\n",
    "image = data['data_ivar'][:, 0, :]\n",
    "\n",
    "imagetmp = image[68, :]\n",
    "print(imagetmp.shape)\n",
    "\n",
    "plt.plot(imagetmp)\n",
    "#for i in range(len(image)):\n",
    "    #plt.plot(image[i])\n",
    "#ivar = data['data_ivar'][:, 1, :][0]\n",
    "#image.shape\n",
    "plt.ylim([0, 350])\n",
    "plt.xlim([700, 4800])\n",
    "#plt.subplot(2, 1, 1)\n",
    "#plt.plot(image)\n",
    "\n",
    "#plt.subplot(2, 1, 2)\n",
    "#plt.plot(ivar)"
   ]
  },
  {
   "cell_type": "markdown",
   "metadata": {},
   "source": [
    "### Checking raw signal-to-noise"
   ]
  },
  {
   "cell_type": "code",
   "execution_count": 40,
   "metadata": {},
   "outputs": [],
   "source": [
    "image = data['data_ivar'][:, 0, :]\n",
    "ivar = data['data_ivar'][:, 1, :]"
   ]
  },
  {
   "cell_type": "code",
   "execution_count": 46,
   "metadata": {},
   "outputs": [
    {
     "data": {
      "text/plain": [
       "(array([68], dtype=int64), array([1475], dtype=int64))"
      ]
     },
     "execution_count": 46,
     "metadata": {},
     "output_type": "execute_result"
    }
   ],
   "source": [
    "rawsnr = image*np.sqrt(ivar)\n",
    "np.where(rawsnr == np.max(rawsnr))"
   ]
  },
  {
   "cell_type": "markdown",
   "metadata": {},
   "source": [
    "Need: For every row, i.e. ngal, check if SNR > 7. If yes, then find max 10 SNR z and w for that gal and generate PDF. If not, ignore"
   ]
  },
  {
   "cell_type": "code",
   "execution_count": 61,
   "metadata": {},
   "outputs": [
    {
     "data": {
      "text/plain": [
       "(143, 10, 5)"
      ]
     },
     "execution_count": 61,
     "metadata": {},
     "output_type": "execute_result"
    }
   ],
   "source": [
    "tmp = np.partition(SNR_tmp, 10, axis = 0)\n",
    "tmp = tmp[:,-10:]\n",
    "tmp.shape"
   ]
  },
  {
   "cell_type": "code",
   "execution_count": 15,
   "metadata": {},
   "outputs": [
    {
     "data": {
      "text/plain": [
       "(143, 9000, 5)"
      ]
     },
     "execution_count": 15,
     "metadata": {},
     "output_type": "execute_result"
    }
   ],
   "source": [
    "SNR_tmp.shape"
   ]
  },
  {
   "cell_type": "code",
   "execution_count": 36,
   "metadata": {},
   "outputs": [],
   "source": [
    "a = np.array([[ 6,  4,  10,  2,  2],\n",
    "               [10,  9,  8,  7,  6]])"
   ]
  },
  {
   "cell_type": "code",
   "execution_count": 37,
   "metadata": {},
   "outputs": [
    {
     "data": {
      "text/plain": [
       "(2, 5)"
      ]
     },
     "execution_count": 37,
     "metadata": {},
     "output_type": "execute_result"
    }
   ],
   "source": [
    "a.shape"
   ]
  },
  {
   "cell_type": "code",
   "execution_count": 50,
   "metadata": {},
   "outputs": [],
   "source": [
    "b = np.partition(a, 4)    # top 3 values from each row"
   ]
  },
  {
   "cell_type": "code",
   "execution_count": 51,
   "metadata": {},
   "outputs": [
    {
     "data": {
      "text/plain": [
       "array([[ 2,  2,  4,  6, 10],\n",
       "       [ 7,  6,  8,  9, 10]])"
      ]
     },
     "execution_count": 51,
     "metadata": {},
     "output_type": "execute_result"
    }
   ],
   "source": [
    "b"
   ]
  },
  {
   "cell_type": "code",
   "execution_count": 52,
   "metadata": {},
   "outputs": [
    {
     "data": {
      "text/plain": [
       "array([[ 4,  6, 10],\n",
       "       [ 8,  9, 10]])"
      ]
     },
     "execution_count": 52,
     "metadata": {},
     "output_type": "execute_result"
    }
   ],
   "source": [
    "b[:,-3:]"
   ]
  },
  {
   "cell_type": "code",
   "execution_count": null,
   "metadata": {},
   "outputs": [],
   "source": []
  },
  {
   "cell_type": "markdown",
   "metadata": {},
   "source": [
    "## Test with synthetic signal"
   ]
  },
  {
   "cell_type": "code",
   "execution_count": 115,
   "metadata": {
    "scrolled": false
   },
   "outputs": [
    {
     "data": {
      "text/plain": [
       "Text(0,0.5,'Flux Error')"
      ]
     },
     "execution_count": 115,
     "metadata": {},
     "output_type": "execute_result"
    },
    {
     "data": {
      "image/png": "[encoded data removed]",
      "text/plain": [
       "<Figure size 432x288 with 2 Axes>"
      ]
     },
     "metadata": {},
     "output_type": "display_data"
    }
   ],
   "source": [
    "synthSpectra = np.arange(7800, 7880, .1) #Note that spacing must be geq the minimum linewidth, i.e. 0.1\n",
    "pureData = Model(1.1, synthSpectra, .2)\n",
    "errstd = 0.1\n",
    "errData = np.random.normal(0, errstd, synthSpectra.shape)\n",
    "synthData = pureData + errData[:, np.newaxis]\n",
    "\n",
    "plt.subplot(2,1,1)\n",
    "plt.plot(synthSpectra, synthData, c = 'red')\n",
    "plt.plot(synthSpectra, pureData)\n",
    "plt.xlabel(\"Wavelength\", fontname = 'serif', fontsize = 15)\n",
    "plt.ylabel(\"Flux\", fontname = 'serif', fontsize = 15)\n",
    "\n",
    "plt.subplot(2,1,2)\n",
    "plt.plot(errData)\n",
    "plt.xlabel(\"Wavelength\", fontname = 'serif', fontsize = 15)\n",
    "plt.ylabel(\"Flux Error\", fontname = 'serif', fontsize = 15)"
   ]
  }
 ],
 "metadata": {
  "anaconda-cloud": {},
  "kernelspec": {
   "display_name": "Python 3",
   "language": "python",
   "name": "python3"
  },
  "language_info": {
   "codemirror_mode": {
    "name": "ipython",
    "version": 3
   },
   "file_extension": ".py",
   "mimetype": "text/x-python",
   "name": "python",
   "nbconvert_exporter": "python",
   "pygments_lexer": "ipython3",
   "version": "3.6.5"
  }
 },
 "nbformat": 4,
 "nbformat_minor": 2
}
