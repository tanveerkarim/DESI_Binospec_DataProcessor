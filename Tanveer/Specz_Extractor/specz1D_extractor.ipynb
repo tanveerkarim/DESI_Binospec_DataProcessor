{
 "cells": [
  {
   "cell_type": "code",
   "execution_count": 1,
   "metadata": {},
   "outputs": [],
   "source": [
    "%matplotlib inline\n",
    "\n",
    "import numpy as np\n",
    "import matplotlib.pyplot as plt"
   ]
  },
  {
   "cell_type": "code",
   "execution_count": 2,
   "metadata": {},
   "outputs": [],
   "source": [
    "data_dir = \"../../../DATA_MAY18/spec1d/\"\n",
    "fname = '2-8h30m-270-spec1d.npz'"
   ]
  },
  {
   "cell_type": "code",
   "execution_count": 3,
   "metadata": {},
   "outputs": [
    {
     "data": {
      "text/plain": [
       "numpy.lib.npyio.NpzFile"
      ]
     },
     "execution_count": 3,
     "metadata": {},
     "output_type": "execute_result"
    }
   ],
   "source": [
    "data = np.load(data_dir + fname) #object, flag (0, 1), wavelength. flags: 0 -> iamge, 1 -> ivar\n",
    "type(data)"
   ]
  },
  {
   "cell_type": "code",
   "execution_count": null,
   "metadata": {},
   "outputs": [],
   "source": [
    "data['data_ivar'].shape"
   ]
  },
  {
   "cell_type": "code",
   "execution_count": null,
   "metadata": {},
   "outputs": [],
   "source": [
    "print(data['data_ivar'][0].shape)\n",
    "print(data['data_ivar'][0][0].shape)\n",
    "print(len(data['data_ivar']))"
   ]
  },
  {
   "cell_type": "code",
   "execution_count": null,
   "metadata": {},
   "outputs": [],
   "source": [
    "collapsedSpectrum = data['data_ivar'][:, 0, :]\n",
    "ivar = data['data_ivar'][:, 1, :]"
   ]
  },
  {
   "cell_type": "code",
   "execution_count": null,
   "metadata": {},
   "outputs": [],
   "source": [
    "ivar.shape"
   ]
  },
  {
   "cell_type": "code",
   "execution_count": 166,
   "metadata": {},
   "outputs": [],
   "source": [
    "def ModelO2(wavelength_array, width, Amp = 1):\n",
    "        \"\"\"Returns the [OII] doublet model\n",
    "        Parameters: wavelength_array: Full wavelength array of MMT BinoSpec. This is constant and must be odd for lambda0 calc.\n",
    "                    width: width of the Gaussian doublets. This varies.\n",
    "                    Amp: Amplitude of the Gaussian doublets\n",
    "        \"\"\"\n",
    "\n",
    "        Gaussian = lambda x, mean, std: np.exp(-((x - mean)/std)**2) #Broadcasting x\n",
    "\n",
    "        #Values from http://classic.sdss.org/dr6/algorithms/linestable.html\n",
    "        separation = (3729.875-3727.092)/2 #separation between lambda0 and the emission lines\n",
    "        lambda0 = wavelength_array[(len(wavelength_array)+1)//2] #Take the midpoint of the wavelength_array as the centre\n",
    "                                                                 #of the Gaussian doublet.wavelength_array must be odd\n",
    "        return Amp*(Gaussian(wavelength_array, lambda0-separation, width) + Gaussian(wavelength_array, lambda0+separation, width))"
   ]
  },
  {
   "cell_type": "code",
   "execution_count": 230,
   "metadata": {},
   "outputs": [],
   "source": [
    "def ModelO2loop(wavelength_array, width, Amp = 1):\n",
    "        \"\"\"Returns the [OII] doublet model\n",
    "        Parameters: wavelength_array: Full wavelength array of MMT BinoSpec. This is constant and must be odd for lambda0 calc.\n",
    "                    width: width of the Gaussian doublets. This varies.\n",
    "                    Amp: Amplitude of the Gaussian doublets\n",
    "        \"\"\"\n",
    "        \n",
    "        Gaussian = lambda x, mean, std: np.exp(-((x[:, np.newaxis] - mean)/std)**2)\n",
    "\n",
    "        #Values from http://classic.sdss.org/dr6/algorithms/linestable.html\n",
    "        separation = (3729.875-3727.092)/2 #separation between lambda0 and the emission lines\n",
    "        lambda0 = wavelength_array[:,(len(wavelength_array[0])+1)//2] #Take the midpoint of the wavelength_array as the centre\n",
    "                                                                 #of the Gaussian doublet.wavelength_array must be odd\n",
    "        #print(lambda0)\n",
    "        models = []\n",
    "        for i,j in enumerate(wavelength_array):\n",
    "            models.append(Amp*(Gaussian(j, lambda0[i]-separation, width) + \\\n",
    "                               Gaussian(j, lambda0[i]+separation, width)))\n",
    "            \n",
    "        models = np.asarray(models)\n",
    "        \n",
    "        return models"
   ]
  },
  {
   "cell_type": "code",
   "execution_count": 240,
   "metadata": {},
   "outputs": [
    {
     "name": "stdout",
     "output_type": "stream",
     "text": [
      "[4500 4502 4504 4506 4508]\n",
      "[[0.00000000e+000 2.56087816e-231 3.27219758e-103 2.24955818e-058]\n",
      " [3.12040414e-296 1.32908486e-074 1.46562690e-033 3.39537837e-019]\n",
      " [8.30386925e-017 9.54597133e-005 1.63400503e-002 9.88450741e-002]\n",
      " [1.62104336e-084 1.89767202e-021 9.06899995e-010 1.11001229e-005]\n",
      " [8.30386925e-017 9.54597133e-005 1.63400503e-002 9.88450741e-002]]\n"
     ]
    }
   ],
   "source": [
    "print(tmpwindow[0])\n",
    "print(ModelO2loop(tmpwindow,np.arange(.1, .5, .1))[0])\n",
    "#plt.plot(ModelO2loop(tmpwindow,np.arange(.1, .5, .1))[0])"
   ]
  },
  {
   "cell_type": "code",
   "execution_count": 182,
   "metadata": {},
   "outputs": [],
   "source": [
    "def Window(wavelength_array, ngal, pixel_size, window_size_multiplier):\n",
    "        \"\"\"Returns windows to run the Model function over to speed up calculation\n",
    "        Parameters: wavelength_array: Full wavelength array of MMT BinoSpec. This is constant\n",
    "                    ngal: number of galaxies in a given data file\n",
    "                    pixel_size: width of pixels in wavelength_array\n",
    "                    window_size_multiplier: Multiple this with pixel size to get width of window in wavelength_array space\n",
    "        Returns: nwindow_ndarray: l x m x n ndarray where l = ngal, m = number of windows and \n",
    "                                n = pixels per windowsize\n",
    "        \"\"\"\n",
    "\n",
    "        nwindow = (wavelength_array[-1] - wavelength_array[0])//pixel_size #number of windows per galaxy. \n",
    "                                                        #It is of this form b/c beyond this window exceeds the wavelength_array\n",
    "        nwindow_array = []\n",
    "\n",
    "        #Generate nwindow windows\n",
    "        print(wavelength_array[-1])\n",
    "        for i in range(nwindow):\n",
    "            tmp = np.arange(wavelength_array[i], wavelength_array[i] + pixel_size*(window_size_multiplier), \\\n",
    "                                         pixel_size)\n",
    "            if(tmp[-1] > (wavelength_array[-1] + pixel_size)):\n",
    "                break\n",
    "            else:\n",
    "                nwindow_array.append(tmp)\n",
    "\n",
    "        nwindow_array = np.asarray(nwindow_array)\n",
    "        \n",
    "        #Repeat nwindow_arary ngal times \n",
    "        #https://stackoverflow.com/questions/32171917/copy-2d-array-into-3rd-dimension-n-times-python\n",
    "        nwindow_ndarray = np.repeat(nwindow_array[np.newaxis, :, :], ngal, axis=0)\n",
    "\n",
    "        #return nwindow_ndarray\n",
    "        return nwindow_array"
   ]
  },
  {
   "cell_type": "code",
   "execution_count": 201,
   "metadata": {},
   "outputs": [
    {
     "name": "stdout",
     "output_type": "stream",
     "text": [
      "4598\n"
     ]
    },
    {
     "data": {
      "text/plain": [
       "array([4500, 4502, 4504, 4506, 4508])"
      ]
     },
     "execution_count": 201,
     "metadata": {},
     "output_type": "execute_result"
    }
   ],
   "source": [
    "pixel_size = 2\n",
    "wave_grid = np.arange(4500, 4600, pixel_size);\n",
    "#print(len(wave_grid))\n",
    "#print(wave_grid)\n",
    "tmpwindow = Window(wave_grid, ngal = 1, pixel_size = pixel_size, window_size_multiplier=5)\n",
    "tmpwindow[0]"
   ]
  },
  {
   "cell_type": "code",
   "execution_count": 206,
   "metadata": {},
   "outputs": [],
   "source": [
    "tmpmodel = ModelO2(tmpwindow[10], .1)"
   ]
  },
  {
   "cell_type": "code",
   "execution_count": 207,
   "metadata": {},
   "outputs": [
    {
     "data": {
      "text/plain": [
       "[<matplotlib.lines.Line2D at 0x1ef1bb70f60>]"
      ]
     },
     "execution_count": 207,
     "metadata": {},
     "output_type": "execute_result"
    },
    {
     "data": {
      "image/png": "[encoded data removed]",
      "text/plain": [
       "<matplotlib.figure.Figure at 0x1ef1bb22278>"
      ]
     },
     "metadata": {},
     "output_type": "display_data"
    }
   ],
   "source": [
    "plt.plot(tmpmodel)"
   ]
  },
  {
   "cell_type": "code",
   "execution_count": 153,
   "metadata": {},
   "outputs": [],
   "source": [
    "Gaussian = lambda x, mean, std: np.exp(-((x[:, np.newaxis] - mean)/std)**2)\n",
    "vecGaussian = np.vectorize(Gaussian, excluded=['x'])"
   ]
  },
  {
   "cell_type": "code",
   "execution_count": 176,
   "metadata": {},
   "outputs": [
    {
     "data": {
      "text/plain": [
       "[<matplotlib.lines.Line2D at 0x1ef1b8970f0>,\n",
       " <matplotlib.lines.Line2D at 0x1ef1b897278>,\n",
       " <matplotlib.lines.Line2D at 0x1ef1b8973c8>,\n",
       " <matplotlib.lines.Line2D at 0x1ef1b897518>]"
      ]
     },
     "execution_count": 176,
     "metadata": {},
     "output_type": "execute_result"
    },
    {
     "data": {
      "image/png": "[encoded data removed]",
      "text/plain": [
       "<matplotlib.figure.Figure at 0x1ef1b83dd30>"
      ]
     },
     "metadata": {},
     "output_type": "display_data"
    }
   ],
   "source": [
    "plt.plot(np.arange(0,10,.1), Gaussian(np.arange(0,10,.1), np.arange(1,5,1), np.arange(.1,.5,.1))) #np.arange(.1,.5,.1)))"
   ]
  },
  {
   "cell_type": "code",
   "execution_count": 179,
   "metadata": {},
   "outputs": [
    {
     "data": {
      "text/plain": [
       "(100, 4)"
      ]
     },
     "execution_count": 179,
     "metadata": {},
     "output_type": "execute_result"
    }
   ],
   "source": [
    "Gaussian(np.arange(0,10,.1), np.arange(1,5,1), np.arange(.1,.5,.1)).shape"
   ]
  },
  {
   "cell_type": "code",
   "execution_count": 208,
   "metadata": {},
   "outputs": [
    {
     "name": "stdout",
     "output_type": "stream",
     "text": [
      "[4500 4502 4504 4506 4508]\n",
      "[4502 4504 4506 4508 4510]\n",
      "[4504 4506 4508 4510 4512]\n",
      "[4506 4508 4510 4512 4514]\n",
      "[4508 4510 4512 4514 4516]\n",
      "[4510 4512 4514 4516 4518]\n",
      "[4512 4514 4516 4518 4520]\n",
      "[4514 4516 4518 4520 4522]\n",
      "[4516 4518 4520 4522 4524]\n",
      "[4518 4520 4522 4524 4526]\n",
      "[4520 4522 4524 4526 4528]\n",
      "[4522 4524 4526 4528 4530]\n",
      "[4524 4526 4528 4530 4532]\n",
      "[4526 4528 4530 4532 4534]\n",
      "[4528 4530 4532 4534 4536]\n",
      "[4530 4532 4534 4536 4538]\n",
      "[4532 4534 4536 4538 4540]\n",
      "[4534 4536 4538 4540 4542]\n",
      "[4536 4538 4540 4542 4544]\n",
      "[4538 4540 4542 4544 4546]\n",
      "[4540 4542 4544 4546 4548]\n",
      "[4542 4544 4546 4548 4550]\n",
      "[4544 4546 4548 4550 4552]\n",
      "[4546 4548 4550 4552 4554]\n",
      "[4548 4550 4552 4554 4556]\n",
      "[4550 4552 4554 4556 4558]\n",
      "[4552 4554 4556 4558 4560]\n",
      "[4554 4556 4558 4560 4562]\n",
      "[4556 4558 4560 4562 4564]\n",
      "[4558 4560 4562 4564 4566]\n",
      "[4560 4562 4564 4566 4568]\n",
      "[4562 4564 4566 4568 4570]\n",
      "[4564 4566 4568 4570 4572]\n",
      "[4566 4568 4570 4572 4574]\n",
      "[4568 4570 4572 4574 4576]\n",
      "[4570 4572 4574 4576 4578]\n",
      "[4572 4574 4576 4578 4580]\n",
      "[4574 4576 4578 4580 4582]\n",
      "[4576 4578 4580 4582 4584]\n",
      "[4578 4580 4582 4584 4586]\n",
      "[4580 4582 4584 4586 4588]\n",
      "[4582 4584 4586 4588 4590]\n",
      "[4584 4586 4588 4590 4592]\n",
      "[4586 4588 4590 4592 4594]\n",
      "[4588 4590 4592 4594 4596]\n",
      "[4590 4592 4594 4596 4598]\n",
      "[4592 4594 4596 4598 4600]\n"
     ]
    }
   ],
   "source": [
    "for i in tmpwindow:\n",
    "    print(i)"
   ]
  },
  {
   "cell_type": "markdown",
   "metadata": {},
   "source": [
    "## Synthetic data"
   ]
  },
  {
   "cell_type": "code",
   "execution_count": null,
   "metadata": {},
   "outputs": [],
   "source": [
    "def Model(params, Amp = 1, std = 0.75): #Default, A = 1, std = 0.75\n",
    "    \"\"\"Returns the [OII] doublet model\n",
    "    Parameters: Amp Amplitude\n",
    "                params: tuple of spectra and lambda0 (centre point of the Model)\n",
    "    \"\"\"\n",
    "    \n",
    "    spectra, lambda0 = params\n",
    "    Gaussian = lambda x, mean, std: np.exp(-((x - mean)/std)**2)\n",
    "    \n",
    "    #Values from http://classic.sdss.org/dr6/algorithms/linestable.html\n",
    "    separation = (3729.875-3727.092)/2 #separation between lambda0 and the emission lines\n",
    "    \n",
    "    return Amp*(Gaussian(spectra, lambda0-separation, std) + Gaussian(spectra, lambda0+separation, std))"
   ]
  },
  {
   "cell_type": "code",
   "execution_count": null,
   "metadata": {},
   "outputs": [],
   "source": [
    "wavelength_grid = np.arange(4500, 4550, .5) \n",
    "ngal = 64 #Number of galaxy in one data file"
   ]
  },
  {
   "cell_type": "code",
   "execution_count": null,
   "metadata": {},
   "outputs": [],
   "source": [
    "synthSpectra = np.arange(4500, 5000, .5) #Note that spacing must be geq the minimum linewidth, i.e. 0.1\n",
    "pureData = Model((synthSpectra, 4730), 1, .1)\n",
    "errstd = 0.05\n",
    "errData = np.random.normal(0, errstd, synthSpectra.shape)\n",
    "synthData = pureData + errData\n",
    "\n",
    "plt.subplot(2,1,1)\n",
    "plt.plot(synthSpectra, synthData)\n",
    "plt.plot(synthSpectra, pureData)\n",
    "plt.xlabel(\"Wavelength\", fontname = 'serif', fontsize = 15)\n",
    "plt.ylabel(\"Flux\", fontname = 'serif', fontsize = 15)\n",
    "\n",
    "plt.subplot(2,1,2)\n",
    "plt.plot(errData)\n",
    "plt.xlabel(\"Wavelength\", fontname = 'serif', fontsize = 15)\n",
    "plt.ylabel(\"Flux Error\", fontname = 'serif', fontsize = 15)"
   ]
  },
  {
   "cell_type": "code",
   "execution_count": null,
   "metadata": {},
   "outputs": [],
   "source": [
    "def SNR_Calculatorv1(wavelength, flux, err):\n",
    "    \"\"\"Returns the SNR and lambda0 such that SNR is a function of lambda0\n",
    "    Parameters: wavelength: array of wavelength range over which to test the filter\n",
    "                flux: array of flux corresponding to the wavelength range\n",
    "                err: array of flux error\n",
    "                \n",
    "    Returns: SNR: Signal-to-noise ratios of Amplitude\n",
    "             lambda0: Different central values of the filter\n",
    "    \"\"\"\n",
    "    \n",
    "    lambda0_emitted = 3727.092 + (3729.875-3727.092)/2 #Midpoint of OII doublet\n",
    "        \n",
    "    #Initialise numpy arrays\n",
    "    width = np.arange(0.1, 2.1, .1) #To calculate SNR at different linewidth\n",
    "    z = np.zeros(len(wavelength))\n",
    "    SNR = np.zeros((len(width), len(wavelength))) #width vs z grid\n",
    "    dataPrime = flux/err #signal of data\n",
    "    \n",
    "    #Calculate SNR at different lambda0 and w\n",
    "    for i in range(len(wavelength)):\n",
    "        for j in range(len(width)):\n",
    "            lambda0 = wavelength[i]\n",
    "            modelFlux = Model((wavelength, lambda0), 1, width[j])\n",
    "            modelPrime = modelFlux/err\n",
    "            \n",
    "            \"\"\"A = (fluxPrime (dot) modelPrime)/(modelPrime (dot) modelPrime)\n",
    "            sigmaA = 1/sqrt(modelPrime (dot) modelPrime)\n",
    "            SNR = A/sigmaA\"\"\"\n",
    "            sigmaA = 1./np.sqrt(np.dot(modelPrime, modelPrime))\n",
    "            A = np.dot(dataPrime, modelPrime)/(sigmaA**(-2))\n",
    "            SNR[j][i] = A/sigmaA\n",
    "            \n",
    "        #Convert lambda0 to z\n",
    "        z[i] = lambda0/lambda0_emitted - 1\n",
    "    \n",
    "    return SNR, z, width"
   ]
  },
  {
   "cell_type": "code",
   "execution_count": null,
   "metadata": {},
   "outputs": [],
   "source": [
    "import time"
   ]
  },
  {
   "cell_type": "code",
   "execution_count": null,
   "metadata": {},
   "outputs": [],
   "source": [
    "t0 = time.time()\n",
    "SNRv1, z, w = SNR_Calculatorv1(synthSpectra, synthData, errstd)\n",
    "t1 = time.time()\n",
    "totalv1 = t1-t0"
   ]
  },
  {
   "cell_type": "code",
   "execution_count": null,
   "metadata": {},
   "outputs": [],
   "source": [
    "def SNR_Calculatorv2(wavelength, flux, err):\n",
    "    \"\"\"Returns the SNR and lambda0 such that SNR is a function of lambda0\n",
    "    Parameters: wavelength: array of wavelength range over which to test the filter\n",
    "                flux: array of flux corresponding to the wavelength range\n",
    "                err: array of flux error\n",
    "                \n",
    "    Returns: SNR: Signal-to-noise ratios of Amplitude\n",
    "             lambda0: Different central values of the filter\n",
    "    \"\"\"\n",
    "    \n",
    "    lambda0_emitted = 3727.092 + (3729.875-3727.092)/2 #Midpoint of OII doublet\n",
    "        \n",
    "    #Initialise numpy arrays\n",
    "    width = np.arange(0.1, 2.1, .1) #To calculate SNR at different linewidth\n",
    "    z = np.zeros(len(wavelength))\n",
    "    SNR = np.zeros((len(width), len(wavelength))) #width vs z grid\n",
    "    dataPrime = flux/err #signal of data\n",
    "    #Calculate SNR at different lambda0 and w\n",
    "    for i in range(len(wavelength)-50): \n",
    "        #The window is 100 px wide with centre at the 50th px. Hence we go upto nth-50 such that we do not have index error\n",
    "        for j in range(len(width)):\n",
    "            lambda0 = wavelength[i+50]\n",
    "            modelFlux = Model((wavelength[i:i+100], lambda0), 1, width[j])\n",
    "            modelPrime = modelFlux/err\n",
    "            \n",
    "            \"\"\"A = (fluxPrime (dot) modelPrime)/(modelPrime (dot) modelPrime)\n",
    "            sigmaA = 1/sqrt(modelPrime (dot) modelPrime)\n",
    "            SNR = A/sigmaA\"\"\"\n",
    "            sigmaA = 1./np.sqrt(np.dot(modelPrime, modelPrime))\n",
    "            A = np.dot(dataPrime[i:i+100], modelPrime)/(sigmaA**(-2))\n",
    "            SNR[j][i] = A/sigmaA\n",
    "            \n",
    "        #Convert lambda0 to z\n",
    "        z[i] = lambda0/lambda0_emitted - 1\n",
    "    \n",
    "    return SNR, z, width"
   ]
  },
  {
   "cell_type": "code",
   "execution_count": null,
   "metadata": {},
   "outputs": [],
   "source": [
    "t0 = time.time()\n",
    "SNRv2, z, w = SNR_Calculatorv2(synthSpectra, synthData, errstd)\n",
    "t1 = time.time()\n",
    "totalv2 = t1-t0"
   ]
  },
  {
   "cell_type": "code",
   "execution_count": null,
   "metadata": {},
   "outputs": [],
   "source": [
    "print(totalv1)\n",
    "print(totalv2)"
   ]
  },
  {
   "cell_type": "code",
   "execution_count": null,
   "metadata": {},
   "outputs": [],
   "source": [
    "import seaborn as sns"
   ]
  },
  {
   "cell_type": "code",
   "execution_count": null,
   "metadata": {},
   "outputs": [],
   "source": [
    "plt.imshow(SNRv1, aspect = 'auto')"
   ]
  },
  {
   "cell_type": "code",
   "execution_count": null,
   "metadata": {},
   "outputs": [],
   "source": [
    "np.where(SNRv1 == SNRv1.max())"
   ]
  },
  {
   "cell_type": "code",
   "execution_count": null,
   "metadata": {},
   "outputs": [],
   "source": [
    "plt.imshow(SNRv2, aspect = 'auto')"
   ]
  },
  {
   "cell_type": "code",
   "execution_count": null,
   "metadata": {},
   "outputs": [],
   "source": [
    "np.where(SNRv2 == SNRv2.max())"
   ]
  },
  {
   "cell_type": "code",
   "execution_count": null,
   "metadata": {},
   "outputs": [],
   "source": [
    "SNRv2[0][410]"
   ]
  },
  {
   "cell_type": "code",
   "execution_count": null,
   "metadata": {},
   "outputs": [],
   "source": [
    "SNRv1[0][460]"
   ]
  },
  {
   "cell_type": "code",
   "execution_count": null,
   "metadata": {},
   "outputs": [],
   "source": [
    "plt.plot(ModelO2(np.arange(4500,4560,.5), .5))"
   ]
  }
 ],
 "metadata": {
  "anaconda-cloud": {},
  "kernelspec": {
   "display_name": "Python [default]",
   "language": "python",
   "name": "python3"
  },
  "language_info": {
   "codemirror_mode": {
    "name": "ipython",
    "version": 3
   },
   "file_extension": ".py",
   "mimetype": "text/x-python",
   "name": "python",
   "nbconvert_exporter": "python",
   "pygments_lexer": "ipython3",
   "version": "3.5.4"
  }
 },
 "nbformat": 4,
 "nbformat_minor": 2
}
