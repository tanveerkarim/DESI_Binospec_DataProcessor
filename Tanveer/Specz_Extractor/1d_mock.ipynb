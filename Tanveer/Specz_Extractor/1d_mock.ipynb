{
 "cells": [
  {
   "cell_type": "code",
   "execution_count": 1,
   "metadata": {},
   "outputs": [],
   "source": [
    "%matplotlib inline\n",
    "\n",
    "import numpy as np\n",
    "import matplotlib.pyplot as plt\n",
    "plt.style.use('ggplot')"
   ]
  },
  {
   "cell_type": "markdown",
   "metadata": {},
   "source": [
    "## Generate wavelength grid same as MMT"
   ]
  },
  {
   "cell_type": "code",
   "execution_count": 2,
   "metadata": {},
   "outputs": [],
   "source": [
    "data_dir = \"../../../DATA_MAY18/spec1d/\"\n",
    "fname270 = '2-8h30m-270-spec1d.npz'\n",
    "fname600 = '2-8h30m-600-spec1d.npz'\n",
    "data270 = np.load(data_dir + fname270)\n",
    "data600 = np.load(data_dir + fname600)"
   ]
  },
  {
   "cell_type": "code",
   "execution_count": 3,
   "metadata": {},
   "outputs": [],
   "source": [
    "def wave_grid(data):\n",
    "    \"\"\"Returns wavegrid based on header file from data\"\"\"\n",
    "    \n",
    "    crval1 = float(str(data['headers'][1]).split(\"CRVAL1\")[1].split(\"=\")[1].split(\"/\")[0]) #Starting value\n",
    "    cdelt1 = float(str(data['headers'][1]).split(\"CDELT1\")[1].split(\"=\")[1].split(\"/\")[0]) #Pixel size\n",
    "    \n",
    "    collapsedSpectrum = data['data_ivar'][:, 0, :]\n",
    "    \n",
    "    wave_grid = crval1 + cdelt1 * np.arange(collapsedSpectrum[1].shape[0])\n",
    "    wave_grid *= 10 #Convert wave_grid to Angstrom from nm\n",
    "    return wave_grid"
   ]
  },
  {
   "cell_type": "code",
   "execution_count": 4,
   "metadata": {},
   "outputs": [],
   "source": [
    "wg270 = wave_grid(data270)\n",
    "wg600 = wave_grid(data600)"
   ]
  },
  {
   "cell_type": "markdown",
   "metadata": {},
   "source": [
    "## Functions to generate mock 1d catalogues"
   ]
  },
  {
   "cell_type": "code",
   "execution_count": 5,
   "metadata": {},
   "outputs": [],
   "source": [
    "def ModelGen(wg, z, width, Amp = 1, offset = 0, GaussianNoiseTrue = False):\n",
    "    \"\"\"Generates mock Gaussian filter model at redshift z with an optional offset\n",
    "    \n",
    "    Parameters\n",
    "    ----------\n",
    "    z: array of redshifts at which the model is being tested\n",
    "    wg: pixel grid of the Window\n",
    "    width: width array of the Gaussian doublets\n",
    "    Amp: amplitude of the Gaussian doublets\n",
    "    \n",
    "    Returns\n",
    "    --------\n",
    "    model: Gaussian models in the range of [z - window_width, z + window_width]\n",
    "    \"\"\"\n",
    "    \n",
    "    lambda_r27 = 3727.092; lambda_r29 = 3729.875 #rest frame wavelength of the [OII] doublets\n",
    "    separation_r = (lambda_r29 - lambda_r27) #separation between the emission lines in rest frame\n",
    "    lambda0 = lambda_r27 + separation_r/2 #Midpoint of the gaussian emission lines in restframe\n",
    "    lambda_obs = lambda0*(1 + z) #Observed wavelength of of the midpoint\n",
    "    Gaussian = lambda x, mean, std: (1/np.sqrt(2*np.pi*std**2))*np.exp(-((x[:, np.newaxis] - mean)/std)**2)\n",
    "\n",
    "    if(not GaussianNoiseTrue == True):\n",
    "        model = (Amp/2*(Gaussian(wg, lambda_obs - separation_r, width) \\\n",
    "                    + Gaussian(wg, lambda_obs + separation_r, width))) + offset\n",
    "        return model\n",
    "    else:\n",
    "        errstd = 0.001\n",
    "        errarray = np.random.normal(0, errstd, wg.shape)[:, np.newaxis]\n",
    "        model = (Amp/2*(Gaussian(wg, lambda_obs - separation_r, width) \\\n",
    "                    + Gaussian(wg, lambda_obs + separation_r, width))) \\\n",
    "             + offset + errarray\n",
    "        return model, 1/errarray**2"
   ]
  },
  {
   "cell_type": "code",
   "execution_count": 6,
   "metadata": {},
   "outputs": [],
   "source": [
    "def mockCatalogue(maskgrating, ngal = 1, seed = 100):\n",
    "    \"\"\"Generates 1d mock masks as MMT\"\"\"\n",
    "    \n",
    "    if(maskgrating == 270):\n",
    "        zlow = 0.0; zhigh = 1.5\n",
    "        wg = wg270\n",
    "    elif(maskgrating == 600):\n",
    "        zlow = 0.7; zhigh = 1.61\n",
    "        wg = wg600\n",
    "        \n",
    "    widths = np.arange(0.1, 2, 0.05)\n",
    "    \n",
    "    models = np.zeros((ngal, len(wg)))\n",
    "    ivars = np.zeros((ngal, len(wg)))\n",
    "    zlist = np.zeros(ngal)\n",
    "    wlist = np.zeros(ngal)\n",
    "    offsetlist = np.zeros(ngal)\n",
    "    \n",
    "    np.random.seed(seed)\n",
    "    for i in range(ngal):\n",
    "        z = np.round(np.random.uniform(zlow, zhigh, 1), 3)\n",
    "        w = np.round(np.random.uniform(0.1, 2., 1),2)\n",
    "        offset = np.round(np.random.uniform(0.0, 2., 1),1)\n",
    "        \n",
    "        tmp1, tmp2 = ModelGen(z = z, width = w, wg = wg, offset = offset,\\\n",
    "                      GaussianNoiseTrue = True)\n",
    "        \n",
    "        models[i] = tmp1.reshape((len(tmp1),))\n",
    "        ivars[i] = tmp2.reshape((len(tmp2),))\n",
    "        zlist[i] = z\n",
    "        wlist[i] = w\n",
    "        offsetlist[i] = offset\n",
    "        \n",
    "    #injectionModels = np.vstack(zlist, wlist, offsetlist) #Injection model matrix is z, w, offset respectively\n",
    "    #injectionModels = injectionModels.T #Transpose for readability\n",
    "    \n",
    "    #To make the data structure look same as Jae's .npz files\n",
    "    tmp = np.dstack((models, ivars))\n",
    "    tmp = np.transpose(tmp, (0,2,1))\n",
    "    \n",
    "    np.savez(\"mock1D_data\", data_ivar=tmp)\n",
    "    np.savez(\"mock1D_models\", z=zlist, w=wlist, offset=offsetlist)"
   ]
  },
  {
   "cell_type": "markdown",
   "metadata": {},
   "source": [
    "## Generate mock catalogue and load it"
   ]
  },
  {
   "cell_type": "code",
   "execution_count": 7,
   "metadata": {},
   "outputs": [],
   "source": [
    "maskname = 270\n",
    "mockCatalogue(maskname, ngal = 143)"
   ]
  },
  {
   "cell_type": "code",
   "execution_count": 8,
   "metadata": {},
   "outputs": [],
   "source": [
    "data = np.load(\"mock1D_data.npz\")\n",
    "injectionModels = np.load(\"mock1D_models.npz\")"
   ]
  },
  {
   "cell_type": "markdown",
   "metadata": {},
   "source": [
    "## Analysis"
   ]
  },
  {
   "cell_type": "code",
   "execution_count": 9,
   "metadata": {},
   "outputs": [],
   "source": [
    "def lambda_to_z(wavelength):\n",
    "    \"\"\"Converts wavelength grid to redshift grid\"\"\"\n",
    "    \n",
    "    separation = (3729.875-3727.092)/2 #separation between the emission lines\n",
    "    lambda0 = 3727.092 + separation #Midpoint of the gaussian emission lines in restframe\n",
    "    \n",
    "    return (wavelength/lambda0 - 1)"
   ]
  },
  {
   "cell_type": "code",
   "execution_count": 10,
   "metadata": {},
   "outputs": [],
   "source": [
    "def Window(z, wg, z_grid, window_width = 0.005):\n",
    "    \"\"\"Returns a range of pixel in the specified window width\n",
    "    \n",
    "    Parameters\n",
    "    ----------\n",
    "    z: Centre of the window\n",
    "    wg: wave grid that needs to be windowed\n",
    "    z_grid: redshift grid of the wave_grid\n",
    "    window_width: size of the window in redshift space\n",
    "    \n",
    "    Returns\n",
    "    -------\n",
    "    windowed_array: windowed array of the windowing_array    \n",
    "    \"\"\"\n",
    "    windowed_array = wg[(z_grid > (z - window_width)) & (z_grid < (z + window_width))]\n",
    "    \n",
    "    return windowed_array"
   ]
  },
  {
   "cell_type": "code",
   "execution_count": 11,
   "metadata": {},
   "outputs": [],
   "source": [
    "def Model(z, wg2, width, Amp = 1):\n",
    "    \"\"\"Returns Gaussian filter model at redshift z\n",
    "    \n",
    "    Parameters\n",
    "    ----------\n",
    "    z: array of redshifts at which the model is being tested\n",
    "    wg2: pixel grid of the Window\n",
    "    width: width array of the Gaussian doublets\n",
    "    Amp: amplitude of the Gaussian doublets\n",
    "    \n",
    "    Returns\n",
    "    --------\n",
    "    model: Gaussian models in the range of [z - window_width, z + window_width]\n",
    "    \"\"\"\n",
    "    \n",
    "    lambda_r27 = 3727.092; lambda_r29 = 3729.875 #rest frame wavelength of the [OII] doublets\n",
    "    separation_r = (lambda_r29 - lambda_r27) #separation between the emission lines in rest frame\n",
    "    lambda0 = lambda_r27 + separation_r/2 #Midpoint of the gaussian emission lines in restframe\n",
    "    lambda_obs = lambda0*(1 + z) #Observed wavelength of of the midpoint\n",
    "    Gaussian = lambda x, mean, std: (1/np.sqrt(2*np.pi*std**2))*np.exp(-((x[:, np.newaxis] - mean)/std)**2)\n",
    "\n",
    "    model = Amp/2*(Gaussian(wg2, lambda_obs - separation_r, width) + Gaussian(wg2, lambda_obs + separation_r, width))\n",
    "        \n",
    "    return model"
   ]
  },
  {
   "cell_type": "code",
   "execution_count": 12,
   "metadata": {},
   "outputs": [],
   "source": [
    "def SNR_calculator(maskname, data):\n",
    "    \"\"\"maskname[-3:] yields the grating number. z_range changes depending\n",
    "    on maskname because of variation in grating. The start and end points\n",
    "    are chosen by inspecting the header file of the data.\"\"\"\n",
    "    \n",
    "    if(maskname[-3:] == '270'):\n",
    "        z_range = np.arange(0.677, 1.5, 0.001)\n",
    "    elif(maskname[-3:] == '600'):\n",
    "        z_range = np.arange(0.7, 1.6, 0.001)\n",
    "    widths = np.arange(.5, 1., .1)\n",
    "    \n",
    "    #Read data\n",
    "    image = data['data_ivar'][:, 0, :]\n",
    "    ivar = data['data_ivar'][:, 1, :]\n",
    "    wg = wave_grid(data270)\n",
    "    z_grid = lambda_to_z(wg) #Convert wavelength space to redshift space\n",
    "    \n",
    "    results = np.zeros((z_range.size, image.shape[0], widths.size))\n",
    "    Amps = np.zeros((z_range.size, image.shape[0], widths.size))\n",
    "    \n",
    "    for i, z in enumerate(z_range):\n",
    "        wg2 = Window(z, wg, z_grid)\n",
    "        \n",
    "        model = Model(z, wg2, widths)\n",
    "        #print('model ' + str(model.shape))\n",
    "        #Find the idx of the edges of the windows and slice the image file to multiply with modelPrime\n",
    "        minidx = np.where(wg == np.min(wg2))[0][0] \n",
    "        maxidx = np.where(wg == np.max(wg2))[0][0]\n",
    "        imageSliced = image[:,minidx:maxidx+1]\n",
    "        #print('image sliced ' + str(imageSliced.shape))\n",
    "        imageSliced = imageSliced[:, :, np.newaxis] #Broadcasting\n",
    "        #print('image sliced broadcasted ' + str(imageSliced.shape))\n",
    "        ivarSliced = ivar[:,minidx:maxidx+1]\n",
    "        ivarSliced = ivarSliced[:, :, np.newaxis] #Broadcasting\n",
    "        imagePrimeSliced = imageSliced*np.sqrt(ivarSliced)\n",
    "        #print('image prime sliced ' + str(imagePrimeSliced.shape))\n",
    "        Mprime = np.sqrt(ivarSliced)*model\n",
    "        #print('Mprime ' + str(Mprime.shape))\n",
    "        Denominator = Mprime**2\n",
    "        #print('Denom' + str(Denominator.shape))\n",
    "        Denominator = np.sum(Denominator, axis = 1)\n",
    "        #print('Denom' + str(Denominator.shape))\n",
    "        Numerator = Mprime*imagePrimeSliced\n",
    "        #print('Nume' + str(Numerator.shape))\n",
    "        Numerator = np.sum(Numerator, axis = 1)\n",
    "        #print('Nume' + str(Numerator.shape))\n",
    "        \"\"\"\n",
    "        sigmaA^(-2) = M'.M'\n",
    "        A = (D'.M')/(M'.M') => (D'.M')*(sigmaA^(2))\n",
    "        \"\"\"\n",
    "        \n",
    "        Amp = Numerator/Denominator\n",
    "        sigmaA = np.sqrt(1./Denominator)\n",
    "        SNR = Amp/sigmaA\n",
    "        \n",
    "        results[i] = SNR\n",
    "        Amps[i] = Amp\n",
    "\n",
    "    results = results.transpose([1, 2, 0]) #This maintains the indices\n",
    "    Amps = Amps.transpose([1, 2, 0])\n",
    "    \n",
    "    return z_range, widths, results, Amps"
   ]
  },
  {
   "cell_type": "code",
   "execution_count": 13,
   "metadata": {},
   "outputs": [
    {
     "name": "stdout",
     "output_type": "stream",
     "text": [
      "1.1532235145568848\n"
     ]
    }
   ],
   "source": [
    "from time import time\n",
    "\n",
    "start = time()\n",
    "z, widths, SNR_tmp, Amps_tmp = SNR_calculator('2-8h30m-270', data)\n",
    "end = time()\n",
    "\n",
    "tot_time = end - start\n",
    "print(str(tot_time))"
   ]
  },
  {
   "cell_type": "markdown",
   "metadata": {},
   "source": [
    "## 1D spectra and error"
   ]
  },
  {
   "cell_type": "code",
   "execution_count": 14,
   "metadata": {},
   "outputs": [
    {
     "data": {
      "text/plain": [
       "Text(0.5,1,'1D inverse variance')"
      ]
     },
     "execution_count": 14,
     "metadata": {},
     "output_type": "execute_result"
    },
    {
     "data": {
      "image/png": "[encoded data removed]",
      "text/plain": [
       "<Figure size 432x288 with 2 Axes>"
      ]
     },
     "metadata": {},
     "output_type": "display_data"
    }
   ],
   "source": [
    "idx = 20\n",
    "\n",
    "image = data['data_ivar'][:, 0, :]\n",
    "ivar = data['data_ivar'][:, 1, :]\n",
    "\n",
    "imagetmp = image[idx, :]\n",
    "ivartmp = ivar[idx, :]\n",
    "\n",
    "f, axarr = plt.subplots(2, sharex=True)\n",
    "axarr[0].plot(wave_grid(data270), imagetmp)\n",
    "axarr[0].set_title('Mask: ' + str(maskname) + ', ' + 'Slit ' + str(idx) + \"\\n\" + \"1D spectra\" \\\n",
    "                   ,  fontsize = 15, fontname = 'serif')\n",
    "axarr[1].plot(wave_grid(data270), ivartmp)\n",
    "axarr[1].set_title('1D inverse variance', fontsize = 15, fontname = 'serif')\n",
    "#plt.savefig('results/spectra1d/' + maskname + '-' + str(idx) + '-spectra1d.pdf', dpi = 600, bbox_inches = None)"
   ]
  },
  {
   "cell_type": "markdown",
   "metadata": {},
   "source": [
    "### SNR(w, z)"
   ]
  },
  {
   "cell_type": "code",
   "execution_count": 15,
   "metadata": {},
   "outputs": [
    {
     "name": "stdout",
     "output_type": "stream",
     "text": [
      "(5, 823)\n"
     ]
    },
    {
     "data": {
      "text/plain": [
       "Text(0.5,1,'Mask: 270, Slit 20')"
      ]
     },
     "execution_count": 15,
     "metadata": {},
     "output_type": "execute_result"
    },
    {
     "data": {
      "image/png": "[encoded data removed]",
      "text/plain": [
       "<Figure size 432x288 with 2 Axes>"
      ]
     },
     "metadata": {},
     "output_type": "display_data"
    }
   ],
   "source": [
    "print(SNR_tmp[idx].shape)\n",
    "plt.imshow(SNR_tmp[idx], aspect='auto', interpolation='None', \\\n",
    "           extent=[np.min(z), np.max(z), np.min(widths), np.max(widths)], vmin=0, vmax=7)\n",
    "plt.colorbar()\n",
    "plt.ylabel('width', fontsize = 15, fontname = 'serif')\n",
    "plt.xlabel('redshift', fontsize = 15, fontname = 'serif')\n",
    "plt.title('Mask: ' + str(maskname) + ', ' + 'Slit ' + str(idx),  fontsize = 15, fontname = 'serif')\n",
    "#plt.savefig(\"results/SNR2D/\" + maskname + '-' + str(idx) + \"-SNR2d.pdf\", dpi = 600, bbox_inches = None)"
   ]
  },
  {
   "cell_type": "markdown",
   "metadata": {},
   "source": [
    "### Max z and w"
   ]
  },
  {
   "cell_type": "code",
   "execution_count": 16,
   "metadata": {},
   "outputs": [
    {
     "name": "stdout",
     "output_type": "stream",
     "text": [
      "Max SNR for slit 20 is 897718.8064355294\n",
      "Maximum SNR has -- width: 0.8999999999999999 and redshift: 1.3520000000000008\n",
      "Wavelength corresponds to: 8769.393192000003\n",
      "3728.4835000000003\n"
     ]
    }
   ],
   "source": [
    "print(\"Max SNR for slit \" + str(idx) + \" is \" + str(np.nanmax(SNR_tmp[idx])))\n",
    "\n",
    "\"\"\"nanargmax flattens SNR_tmp[idx] and finds the index number of the max value while ignorning NaNs.\n",
    "Then passing that index to unravel_index helps find the coordinate location of the max in the original\n",
    "matrix shape. The second argument is the shape of the matrix. Thus for a given index and a given matrix\n",
    "shape, unravel_index can unflatten the 1D data and reshape it to the desired matrix shape and then \n",
    "find out the coordinate of the desired value.\"\"\"\n",
    "\n",
    "w, redshift = np.unravel_index(np.nanargmax(SNR_tmp[idx]), np.array(SNR_tmp[idx]).shape)\n",
    "print(\"Maximum SNR has -- width: \" + str(widths[w]) + ' and redshift: ' + str(z[redshift]))\n",
    "\n",
    "\n",
    "#Corresponding wavelength\n",
    "lambda_r27 = 3727.092; lambda_r29 = 3729.875 #rest frame wavelength of the [OII] doublets\n",
    "separation_r = (lambda_r29 - lambda_r27) #separation between the emission lines in rest frame\n",
    "lambda0 = lambda_r27 + separation_r/2 #Midpoint of the gaussian emission lines in restframe\n",
    "print(\"Wavelength corresponds to: \" + str(lambda0*(1+z[redshift])))\n",
    "print(lambda0)"
   ]
  },
  {
   "cell_type": "code",
   "execution_count": 17,
   "metadata": {},
   "outputs": [
    {
     "data": {
      "text/plain": [
       "Text(0.5,1,'Mask: 270, Slit 20\\nz = 1.352, w = 0.9')"
      ]
     },
     "execution_count": 17,
     "metadata": {},
     "output_type": "execute_result"
    },
    {
     "data": {
      "image/png": "[encoded data removed]",
      "text/plain": [
       "<Figure size 432x288 with 1 Axes>"
      ]
     },
     "metadata": {},
     "output_type": "display_data"
    }
   ],
   "source": [
    "plt.plot(z, SNR_tmp[idx, w])\n",
    "plt.axhline(7, c = 'red')\n",
    "plt.ylabel('SNR', fontsize = 15, fontname = 'serif')\n",
    "plt.xlabel('redshift', fontsize = 15, fontname = 'serif')\n",
    "plt.title('Mask: ' + str(maskname) + ', ' + 'Slit ' + str(idx) +\"\\n\" +\\\n",
    "          \"z = \" + str(np.round(z[redshift], 3)) + ', w = ' + str(np.round(widths[w],2)) \\\n",
    "          , fontsize = 15, fontname = 'serif')\n",
    "#plt.xlim([z[redshift] - .1, z[redshift] + .1])\n",
    "#plt.savefig(\"results/SNRvsRedshift/\" + maskname + '-' + str(idx) + \"-SNR_vs_z.pdf\", dpi = 600, bbox_inches = None)"
   ]
  },
  {
   "cell_type": "markdown",
   "metadata": {},
   "source": [
    "### Zooming into 1D spectra around wavelength range with the peak"
   ]
  },
  {
   "cell_type": "code",
   "execution_count": 18,
   "metadata": {},
   "outputs": [],
   "source": [
    "wg1 = wave_grid(data270)\n",
    "z_grid = lambda_to_z(wg1)\n",
    "wg3 = wg1[(wg1 > (1+z[redshift])*(3728.4835-20.)) & (wg1 < (1+z[redshift])*(3728.4835+20.))]"
   ]
  },
  {
   "cell_type": "code",
   "execution_count": 19,
   "metadata": {},
   "outputs": [
    {
     "data": {
      "text/plain": [
       "[<matplotlib.lines.Line2D at 0x2038e2fbe80>]"
      ]
     },
     "execution_count": 19,
     "metadata": {},
     "output_type": "execute_result"
    },
    {
     "data": {
      "image/png": "[encoded data removed]",
      "text/plain": [
       "<Figure size 432x288 with 2 Axes>"
      ]
     },
     "metadata": {},
     "output_type": "display_data"
    }
   ],
   "source": [
    "ranges = 20\n",
    "\n",
    "f, axarr = plt.subplots(2, sharex=True)\n",
    "axarr[0].plot(wave_grid(data270), imagetmp)\n",
    "axarr[0].set_title('Mask: ' + str(maskname) + ', ' + 'Slit ' + str(idx) + \"\\n\" + \"1D spectra\" \\\n",
    "                   ,  fontsize = 15, fontname = 'serif')\n",
    "axarr[1].plot(wave_grid(data270), ivartmp)\n",
    "axarr[1].set_title('1D inverse variance', fontsize = 15, fontname = 'serif')\n",
    "axarr[0].set_xlim([lambda0*(1+z[redshift])-ranges, lambda0*(1+z[redshift])+ranges])\n",
    "axarr[1].set_xlim([lambda0*(1+z[redshift])-ranges, lambda0*(1+z[redshift])+ranges])\n",
    "\n",
    "axarr[0].plot(wg3, Model(z[redshift], wg3, widths[w], Amp=Amps_tmp[idx, w, redshift]), c = 'red')\n",
    "\n",
    "#plt.savefig(\"results/PeakZoom/\" + maskname + '-' + str(idx) + \"-zoom1d.pdf\", dpi = 600, bbox_inches = None)"
   ]
  },
  {
   "cell_type": "code",
   "execution_count": 20,
   "metadata": {},
   "outputs": [
    {
     "name": "stdout",
     "output_type": "stream",
     "text": [
      "0.853\n",
      "1.33\n"
     ]
    }
   ],
   "source": [
    "print(injectionModels['z'][idx])\n",
    "print(injectionModels['w'][idx])"
   ]
  },
  {
   "cell_type": "code",
   "execution_count": 21,
   "metadata": {},
   "outputs": [
    {
     "name": "stdout",
     "output_type": "stream",
     "text": [
      "Grating number: 600\n"
     ]
    }
   ],
   "source": [
    "key = input('Grating number: ')"
   ]
  },
  {
   "cell_type": "code",
   "execution_count": 24,
   "metadata": {},
   "outputs": [
    {
     "data": {
      "text/plain": [
       "'600'"
      ]
     },
     "execution_count": 24,
     "metadata": {},
     "output_type": "execute_result"
    }
   ],
   "source": [
    "key[-3:]"
   ]
  },
  {
   "cell_type": "code",
   "execution_count": null,
   "metadata": {},
   "outputs": [],
   "source": []
  }
 ],
 "metadata": {
  "kernelspec": {
   "display_name": "Python 3",
   "language": "python",
   "name": "python3"
  },
  "language_info": {
   "codemirror_mode": {
    "name": "ipython",
    "version": 3
   },
   "file_extension": ".py",
   "mimetype": "text/x-python",
   "name": "python",
   "nbconvert_exporter": "python",
   "pygments_lexer": "ipython3",
   "version": "3.6.5"
  }
 },
 "nbformat": 4,
 "nbformat_minor": 2
}
