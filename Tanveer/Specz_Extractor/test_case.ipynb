{
 "cells": [
  {
   "cell_type": "code",
   "execution_count": 1,
   "metadata": {},
   "outputs": [],
   "source": [
    "%matplotlib inline\n",
    "\n",
    "import numpy as np\n",
    "import matplotlib.pyplot as plt"
   ]
  },
  {
   "cell_type": "code",
   "execution_count": 2,
   "metadata": {},
   "outputs": [],
   "source": [
    "def Window(wavelength_array, pixel_size, window_size_multiplier, ngal = 1):\n",
    "        \"\"\"Returns windows to run the Model function over to speed up calculation\n",
    "        Parameters: wavelength_array: Full wavelength array of MMT BinoSpec. This is constant\n",
    "                    ngal: number of galaxies in a given data file\n",
    "                    pixel_size: width of pixels in wavelength_array\n",
    "                    window_size_multiplier: Multiple this with pixel size to get width of window in wavelength_array space\n",
    "        Returns: nwindow_ndarray: l x m x n ndarray where l = ngal, m = number of windows and \n",
    "                                n = pixels per windowsize\n",
    "        \"\"\"\n",
    "\n",
    "        nwindow = (wavelength_array[-1] - wavelength_array[0])//pixel_size #number of windows per galaxy. \n",
    "                                                        #It is of this form b/c beyond this window exceeds the wavelength_array\n",
    "        nwindow_array = []\n",
    "\n",
    "        #Generate nwindow windows\n",
    "        for i in range(int(nwindow)):\n",
    "            tmp = np.arange(wavelength_array[i], wavelength_array[i] + pixel_size*(window_size_multiplier), \\\n",
    "                                         pixel_size)\n",
    "            if(tmp[-1] > (wavelength_array[-1] + pixel_size)):\n",
    "                break\n",
    "            else:\n",
    "                nwindow_array.append(tmp)\n",
    "\n",
    "        nwindow_array = np.asarray(nwindow_array)\n",
    "        \n",
    "        #Repeat nwindow_arary ngal times \n",
    "        #https://stackoverflow.com/questions/32171917/copy-2d-array-into-3rd-dimension-n-times-python\n",
    "        nwindow_ndarray = np.repeat(nwindow_array[np.newaxis, :, :], ngal, axis=0)\n",
    "\n",
    "        #return nwindow_ndarray\n",
    "        return nwindow_array"
   ]
  },
  {
   "cell_type": "markdown",
   "metadata": {},
   "source": [
    "### Generate wavelength grid with each pixel = 2 Angstrom."
   ]
  },
  {
   "cell_type": "code",
   "execution_count": 9,
   "metadata": {},
   "outputs": [
    {
     "name": "stdout",
     "output_type": "stream",
     "text": [
      "9999\n",
      "10000\n"
     ]
    }
   ],
   "source": [
    "pixel_size = .01\n",
    "wave_grid = np.arange(4500, 4600, pixel_size);\n",
    "nwindow = (wave_grid[-1] - wave_grid[0])//pixel_size\n",
    "print(int(nwindow))\n",
    "print(len(wave_grid))"
   ]
  },
  {
   "cell_type": "markdown",
   "metadata": {},
   "source": [
    "### Pass the wavelength grid to the Window function to generate windows to run the model over for\n",
    "### 1 galaxy, and window width = 5 pixels"
   ]
  },
  {
   "cell_type": "code",
   "execution_count": 10,
   "metadata": {},
   "outputs": [
    {
     "name": "stdout",
     "output_type": "stream",
     "text": [
      "(9996, 6)\n"
     ]
    },
    {
     "data": {
      "text/plain": [
       "array([[4500.  , 4500.01, 4500.02, 4500.03, 4500.04, 4500.05],\n",
       "       [4500.01, 4500.02, 4500.03, 4500.04, 4500.05, 4500.06],\n",
       "       [4500.02, 4500.03, 4500.04, 4500.05, 4500.06, 4500.07],\n",
       "       ...,\n",
       "       [4599.93, 4599.94, 4599.95, 4599.96, 4599.97, 4599.98],\n",
       "       [4599.94, 4599.95, 4599.96, 4599.97, 4599.98, 4599.99],\n",
       "       [4599.95, 4599.96, 4599.97, 4599.98, 4599.99, 4600.  ]])"
      ]
     },
     "execution_count": 10,
     "metadata": {},
     "output_type": "execute_result"
    }
   ],
   "source": [
    "tmpwindow = Window(wave_grid, ngal = 1, pixel_size = pixel_size, window_size_multiplier=5)\n",
    "print(tmpwindow.shape)\n",
    "tmpwindow"
   ]
  },
  {
   "cell_type": "markdown",
   "metadata": {},
   "source": [
    "We have generated an m x n ndarray of arrays that consists of m windows and each window contains n pixels"
   ]
  },
  {
   "cell_type": "markdown",
   "metadata": {},
   "source": [
    "### Model function takes the output of Window function and produces an ndarray to evaluate the model for each window"
   ]
  },
  {
   "cell_type": "code",
   "execution_count": 11,
   "metadata": {},
   "outputs": [],
   "source": [
    "def ModelO2loop(wavelength_array, width, Amp = 1):\n",
    "        \"\"\"Returns the [OII] doublet model\n",
    "        Parameters: wavelength_array: Full wavelength array of MMT BinoSpec. This is constant and must be odd for lambda0 calc.\n",
    "                    width: width of the Gaussian doublets. This varies.\n",
    "                    Amp: Amplitude of the Gaussian doublets\n",
    "        \"\"\"\n",
    "        \n",
    "        Gaussian = lambda x, mean, std: np.exp(-((x[:, np.newaxis] - mean)/std)**2)\n",
    "\n",
    "        #Values from http://classic.sdss.org/dr6/algorithms/linestable.html\n",
    "        separation = (3729.875-3727.092)/2 #separation between lambda0 and the emission lines\n",
    "        lambda0 = wavelength_array[:,(len(wavelength_array[0])+1)//2] #Take the midpoint of the wavelength_array as the centre\n",
    "                                                                 #of the Gaussian doublet.wavelength_array must be odd\n",
    "        \n",
    "        models = []\n",
    "        for i,j in enumerate(wavelength_array):\n",
    "            models.append(Amp*(Gaussian(j, lambda0[i]-separation, width) + \\\n",
    "                               Gaussian(j, lambda0[i]+separation, width)))\n",
    "            \n",
    "        models = np.asarray(models)\n",
    "        \n",
    "        return models"
   ]
  },
  {
   "cell_type": "code",
   "execution_count": 12,
   "metadata": {},
   "outputs": [],
   "source": [
    "tmpmodel = ModelO2loop(tmpwindow, width = .5)"
   ]
  },
  {
   "cell_type": "code",
   "execution_count": 13,
   "metadata": {},
   "outputs": [
    {
     "data": {
      "text/plain": [
       "array([[[0.00091117],\n",
       "        [0.00088585],\n",
       "        [0.00087075],\n",
       "        [0.00086573],\n",
       "        [0.00087075],\n",
       "        [0.00088585]],\n",
       "\n",
       "       [[0.00091117],\n",
       "        [0.00088585],\n",
       "        [0.00087075],\n",
       "        [0.00086573],\n",
       "        [0.00087075],\n",
       "        [0.00088585]],\n",
       "\n",
       "       [[0.00091117],\n",
       "        [0.00088585],\n",
       "        [0.00087075],\n",
       "        [0.00086573],\n",
       "        [0.00087075],\n",
       "        [0.00088585]],\n",
       "\n",
       "       ...,\n",
       "\n",
       "       [[0.00091117],\n",
       "        [0.00088585],\n",
       "        [0.00087075],\n",
       "        [0.00086573],\n",
       "        [0.00087075],\n",
       "        [0.00088585]],\n",
       "\n",
       "       [[0.00091117],\n",
       "        [0.00088585],\n",
       "        [0.00087075],\n",
       "        [0.00086573],\n",
       "        [0.00087075],\n",
       "        [0.00088585]],\n",
       "\n",
       "       [[0.00091117],\n",
       "        [0.00088585],\n",
       "        [0.00087075],\n",
       "        [0.00086573],\n",
       "        [0.00087075],\n",
       "        [0.00088585]]])"
      ]
     },
     "execution_count": 13,
     "metadata": {},
     "output_type": "execute_result"
    }
   ],
   "source": [
    "tmpmodel"
   ]
  },
  {
   "cell_type": "code",
   "execution_count": null,
   "metadata": {},
   "outputs": [],
   "source": []
  },
  {
   "cell_type": "code",
   "execution_count": null,
   "metadata": {},
   "outputs": [],
   "source": []
  }
 ],
 "metadata": {
  "anaconda-cloud": {},
  "kernelspec": {
   "display_name": "Python [default]",
   "language": "python",
   "name": "python3"
  },
  "language_info": {
   "codemirror_mode": {
    "name": "ipython",
    "version": 3
   },
   "file_extension": ".py",
   "mimetype": "text/x-python",
   "name": "python",
   "nbconvert_exporter": "python",
   "pygments_lexer": "ipython3",
   "version": "3.5.4"
  }
 },
 "nbformat": 4,
 "nbformat_minor": 2
}
